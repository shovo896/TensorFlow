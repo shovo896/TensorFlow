{
  "nbformat": 4,
  "nbformat_minor": 0,
  "metadata": {
    "colab": {
      "provenance": [],
      "authorship_tag": "ABX9TyM7KZRx6izDGW5vSvDsD4tS",
      "include_colab_link": true
    },
    "kernelspec": {
      "name": "python3",
      "display_name": "Python 3"
    },
    "language_info": {
      "name": "python"
    }
  },
  "cells": [
    {
      "cell_type": "markdown",
      "metadata": {
        "id": "view-in-github",
        "colab_type": "text"
      },
      "source": [
        "<a href=\"https://colab.research.google.com/github/shovo896/TensorFlow/blob/main/transform.ipynb\" target=\"_parent\"><img src=\"https://colab.research.google.com/assets/colab-badge.svg\" alt=\"Open In Colab\"/></a>"
      ]
    },
    {
      "cell_type": "code",
      "execution_count": 1,
      "metadata": {
        "colab": {
          "base_uri": "https://localhost:8080/"
        },
        "id": "-nJM-b0ODIcx",
        "outputId": "c748bd28-8351-4db7-d030-8d5905dd6b3f"
      },
      "outputs": [
        {
          "output_type": "stream",
          "name": "stdout",
          "text": [
            "Orginal tensor\n",
            "tf.Tensor(\n",
            "[[1 2 3]\n",
            " [4 5 6]], shape=(2, 3), dtype=int32)\n",
            "\n",
            "Reshaped tensor\n",
            "\n",
            "Transposed tensor\n",
            "tf.Tensor(\n",
            "[[1 4]\n",
            " [2 5]\n",
            " [3 6]], shape=(3, 2), dtype=int32)\n"
          ]
        }
      ],
      "source": [
        "import tensorflow as tf\n",
        "t=tf.constant([[1,2,3],[4,5,6]])\n",
        "print('Orginal tensor')\n",
        "print(t)\n",
        "#Reshaping into 3x2 tensor\n",
        "reshaped_tensor=tf.reshape(t,[3,2])\n",
        "print(\"\\nReshaped tensor\")\n",
        "#Transposing with permuted dimehsions\n",
        "transposed_tensor=tf.transpose(t,perm=[1,0])\n",
        "print(\"\\nTransposed tensor\")\n",
        "print(transposed_tensor)"
      ]
    },
    {
      "cell_type": "markdown",
      "source": [
        "using the special value -1 as shape"
      ],
      "metadata": {
        "id": "RepR4SJHNf8N"
      }
    },
    {
      "cell_type": "code",
      "source": [
        "t=tf.constant([[1,2,3],[4,5,6]])\n",
        "result=tf.reshape(t,[-1])\n",
        "print('Flattened tensor:\\n',result)\n",
        "print('\\n Orginal Tensor shape:',tf.shape(t))\n",
        "print('\\nFlattened tensor shape:',tf.shape(result))"
      ],
      "metadata": {
        "colab": {
          "base_uri": "https://localhost:8080/"
        },
        "id": "lD8JfJMiMlsh",
        "outputId": "ea4d3a62-c037-435c-a19f-9bab79aecb9b"
      },
      "execution_count": 2,
      "outputs": [
        {
          "output_type": "stream",
          "name": "stdout",
          "text": [
            "Flattened tensor:\n",
            " tf.Tensor([1 2 3 4 5 6], shape=(6,), dtype=int32)\n",
            "\n",
            " Orginal Tensor shape: tf.Tensor([2 3], shape=(2,), dtype=int32)\n",
            "\n",
            "Flattened tensor shape: tf.Tensor([6], shape=(1,), dtype=int32)\n"
          ]
        }
      ]
    }
  ]
}