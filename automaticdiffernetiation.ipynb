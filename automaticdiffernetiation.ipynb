{
  "nbformat": 4,
  "nbformat_minor": 0,
  "metadata": {
    "colab": {
      "provenance": [],
      "authorship_tag": "ABX9TyP4Fv4/BgwZsUZcO7CKqhlC",
      "include_colab_link": true
    },
    "kernelspec": {
      "name": "python3",
      "display_name": "Python 3"
    },
    "language_info": {
      "name": "python"
    }
  },
  "cells": [
    {
      "cell_type": "markdown",
      "metadata": {
        "id": "view-in-github",
        "colab_type": "text"
      },
      "source": [
        "<a href=\"https://colab.research.google.com/github/shovo896/TensorFlow/blob/main/automaticdiffernetiation.ipynb\" target=\"_parent\"><img src=\"https://colab.research.google.com/assets/colab-badge.svg\" alt=\"Open In Colab\"/></a>"
      ]
    },
    {
      "cell_type": "code",
      "execution_count": 20,
      "metadata": {
        "colab": {
          "base_uri": "https://localhost:8080/",
          "height": 211
        },
        "id": "GxQDU1-aEUj2",
        "outputId": "0f43a721-97b6-4769-a054-6327ddb820af"
      },
      "outputs": [
        {
          "output_type": "error",
          "ename": "AttributeError",
          "evalue": "module 'tensorflow' has no attribute 'GradientType'",
          "traceback": [
            "\u001b[0;31m---------------------------------------------------------------------------\u001b[0m",
            "\u001b[0;31mAttributeError\u001b[0m                            Traceback (most recent call last)",
            "\u001b[0;32m/tmp/ipython-input-3375850793.py\u001b[0m in \u001b[0;36m<cell line: 0>\u001b[0;34m()\u001b[0m\n\u001b[1;32m      3\u001b[0m   \u001b[0;32mreturn\u001b[0m \u001b[0mx\u001b[0m\u001b[0;34m**\u001b[0m\u001b[0;36m2\u001b[0m\u001b[0;34m+\u001b[0m\u001b[0;36m5\u001b[0m\u001b[0;34m*\u001b[0m\u001b[0;36m2\u001b[0m\u001b[0;34m+\u001b[0m\u001b[0;36m3\u001b[0m\u001b[0;34m\u001b[0m\u001b[0;34m\u001b[0m\u001b[0m\n\u001b[1;32m      4\u001b[0m \u001b[0mx\u001b[0m\u001b[0;34m=\u001b[0m\u001b[0mtf\u001b[0m\u001b[0;34m.\u001b[0m\u001b[0mVariable\u001b[0m\u001b[0;34m(\u001b[0m\u001b[0;36m2.0\u001b[0m\u001b[0;34m)\u001b[0m\u001b[0;34m\u001b[0m\u001b[0;34m\u001b[0m\u001b[0m\n\u001b[0;32m----> 5\u001b[0;31m \u001b[0;32mwith\u001b[0m \u001b[0mtf\u001b[0m\u001b[0;34m.\u001b[0m\u001b[0mGradientType\u001b[0m \u001b[0;32mas\u001b[0m \u001b[0mtype\u001b[0m\u001b[0;34m:\u001b[0m\u001b[0;34m\u001b[0m\u001b[0;34m\u001b[0m\u001b[0m\n\u001b[0m\u001b[1;32m      6\u001b[0m   \u001b[0my\u001b[0m\u001b[0;34m=\u001b[0m\u001b[0mfunc\u001b[0m\u001b[0;34m(\u001b[0m\u001b[0mx\u001b[0m\u001b[0;34m)\u001b[0m\u001b[0;34m\u001b[0m\u001b[0;34m\u001b[0m\u001b[0m\n\u001b[1;32m      7\u001b[0m \u001b[0mgrad\u001b[0m\u001b[0;34m=\u001b[0m\u001b[0mtape\u001b[0m\u001b[0;34m.\u001b[0m\u001b[0mgradient\u001b[0m\u001b[0;34m(\u001b[0m\u001b[0my\u001b[0m\u001b[0;34m,\u001b[0m\u001b[0mx\u001b[0m\u001b[0;34m)\u001b[0m\u001b[0;34m\u001b[0m\u001b[0;34m\u001b[0m\u001b[0m\n",
            "\u001b[0;31mAttributeError\u001b[0m: module 'tensorflow' has no attribute 'GradientType'"
          ]
        }
      ],
      "source": [
        "import tensorflow as tf\n",
        "def func(x):\n",
        "  return x**2+5*2+3\n",
        "x=tf.Variable(2.0)\n",
        "with tf.GradientType as type:\n",
        "  y=func(x)\n",
        "grad=tape.gradient(y,x)\n",
        "print(\"Function value:\",y.numpy())\n",
        "print(\"Gradient:\",grad.numpy())"
      ]
    },
    {
      "cell_type": "code",
      "source": [],
      "metadata": {
        "id": "lRbwDd30Pdmx"
      },
      "execution_count": null,
      "outputs": []
    },
    {
      "cell_type": "code",
      "source": [
        "import tensorflow as tf\n",
        "\n",
        "# Define a simple mathematical function\n",
        "def func(x):\n",
        "    return x**2 + 5*x + 3\n",
        "\n",
        "# Define the input variable\n",
        "x = tf.Variable(2.0)\n",
        "\n",
        "# Use GradientTape to compute the gradient\n",
        "with tf.GradientTape() as tape:\n",
        "    y = func(x)\n",
        "\n",
        "# Get the gradient of y with respect to x\n",
        "grad = tape.gradient(y, x)\n",
        "\n",
        "print(\"Function value:\", y.numpy())\n",
        "print(\"Gradient:\", grad.numpy())"
      ],
      "metadata": {
        "id": "PkGZNFMuFlxL"
      },
      "execution_count": null,
      "outputs": []
    },
    {
      "cell_type": "code",
      "source": [
        "import tensorflow as tf\n",
        "def func(x):\n",
        "  return x**2+5*2+3\n",
        "  x=tf.Variable(2.0)\n",
        "  with tf.GradientType as type:\n",
        "    y=func(x)\n",
        "\n",
        "  grad=tape.gradient(y,x)\n",
        "  print(\"Function name:\",y.numpy())\n",
        "  print(\"Gradient:\",grad.numpy())\n",
        "\n"
      ],
      "metadata": {
        "id": "yrPPXQsXGAXG"
      },
      "execution_count": null,
      "outputs": []
    },
    {
      "cell_type": "code",
      "source": [
        "automatic differentiation in tensorflow"
      ],
      "metadata": {
        "id": "xqnnIyGKG2lT"
      },
      "execution_count": null,
      "outputs": []
    },
    {
      "cell_type": "code",
      "source": [
        "import tensorflow as tf\n",
        "\n",
        "# Define a simple mathematical function\n",
        "def func(x):\n",
        "    return x**2 + 5*x + 3\n",
        "\n",
        "# Define the input variable\n",
        "x = tf.Variable(2.0)\n",
        "\n",
        "# Use GradientTape to compute the gradient\n",
        "with tf.GradientTape() as tape:\n",
        "    y = func(x)\n",
        "\n",
        "# Get the gradient of y with respect to x\n",
        "grad = tape.gradient(y, x)\n",
        "\n",
        "print(\"Function value:\", y.numpy())\n",
        "print(\"Gradient:\", grad.numpy())"
      ],
      "metadata": {
        "id": "H0fmOhrFG9v7"
      },
      "execution_count": null,
      "outputs": []
    },
    {
      "cell_type": "code",
      "source": [
        "import tensorflow as tf\n",
        "X=tf.random.normal((100,1))\n",
        "y=5*X+tf.random.normal((100,1))\n",
        "model=tf.keras.Sequential([tf.keras.layers.Dense(1)])\n",
        "model.compile(optimizer='sgd',loss='mse')\n",
        "model.fit(X,y,epochs=10,verbose=0)\n",
        "print(\"Trained weights:\",model.layers[0].get_weights()[0])\n"
      ],
      "metadata": {
        "id": "UyKR99qVFzOu"
      },
      "execution_count": null,
      "outputs": []
    },
    {
      "cell_type": "code",
      "source": [
        "import tensorflow as tf\n",
        "def func(x):\n",
        "  return x**2+5*2+3\n",
        "x=tf.Variable(2.0)\n",
        "with tf.GradientType() as type:\n",
        "  y=func(x)\n",
        "manual_grid=2*x + 5\n",
        "with tf.GradientTape() as tape:\n",
        "  y=func(x)\n",
        "auto_grad=tape.gradient(y,x)\n",
        "print(\"Manual gradient:\",manual_grid.numpy())\n",
        "print(\"Auto gradient:\",auto_grad.numpy())\n",
        ""
      ],
      "metadata": {
        "id": "b3iMW_EnIsXh"
      },
      "execution_count": null,
      "outputs": []
    },
    {
      "cell_type": "code",
      "source": [
        "import tensorflow as tf\n",
        "\n",
        "# Define a simple mathematical function\n",
        "def func(x):\n",
        "    return x**2 + 5*x + 3\n",
        "\n",
        "# Define the input variable\n",
        "x = tf.Variable(2.0)\n",
        "\n",
        "# Manual gradient computation\n",
        "with tf.GradientTape() as tape:\n",
        "    y = func(x)\n",
        "\n",
        "manual_grad = 2*x + 5\n",
        "\n",
        "# Automatic differentiation\n",
        "with tf.GradientTape() as tape:\n",
        "    y = func(x)\n",
        "\n",
        "auto_grad = tape.gradient(y, x)\n",
        "\n",
        "print(\"Manual Gradient:\", manual_grad.numpy())\n",
        "print(\"Automatic Gradient:\", auto_grad.numpy())"
      ],
      "metadata": {
        "id": "qjXUiTcFJ4yY"
      },
      "execution_count": null,
      "outputs": []
    },
    {
      "cell_type": "code",
      "source": [
        "import tensorflow as tf\n",
        "def simple_function():\n",
        "  return x**2\n",
        "x=tf.constant(3,0)\n",
        "with tf.GradientTape() as type\""
      ],
      "metadata": {
        "id": "roGOyPu8J-0y"
      },
      "execution_count": null,
      "outputs": []
    },
    {
      "cell_type": "code",
      "source": [
        "import tensorflow as tf\n",
        "def simple_function(x):\n",
        "  return x **2\n",
        "x=tf.constant(3.0)\n",
        "with tf.GradientTape as tape:\n",
        "  tape.watch(x)\n",
        "  y=simple_function(x)\n",
        "dy_dx=type.gradient(y,x)\n",
        "print(\"Function value :\",y.numpy())\n",
        "print(\"Gradient:\",dy_dx.numpy())"
      ],
      "metadata": {
        "id": "DheBLXkAKUti"
      },
      "execution_count": null,
      "outputs": []
    },
    {
      "cell_type": "code",
      "source": [
        "import tensorflow as tf\n",
        "\n",
        "# Define a simple function\n",
        "def simple_function(x):\n",
        "    return x ** 2\n",
        "\n",
        "# Define the input variable\n",
        "x = tf.constant(3.0)\n",
        "\n",
        "# Use tf.GradientTape to compute the gradient\n",
        "with tf.GradientTape() as tape:\n",
        "    # Monitor the input variable\n",
        "    tape.watch(x)\n",
        "    # Compute the function value\n",
        "    y = simple_function(x)\n",
        "\n",
        "# Compute the gradient\n",
        "dy_dx = tape.gradient(y, x)\n",
        "\n",
        "print(\"Function value:\", y.numpy())\n",
        "print(\"Gradient:\", dy_dx.numpy())"
      ],
      "metadata": {
        "id": "5Wi0xibRLW2a"
      },
      "execution_count": null,
      "outputs": []
    },
    {
      "cell_type": "code",
      "source": [
        "import tensorflow as tf\n",
        "def custom_function(x):\n",
        "  return tf.square(x)\n",
        "@tf.custom_gradient\n",
        "def custom_gradient"
      ],
      "metadata": {
        "id": "aCMKNkQaLjct"
      },
      "execution_count": null,
      "outputs": []
    },
    {
      "cell_type": "markdown",
      "source": [
        "Custom gradient"
      ],
      "metadata": {
        "id": "YRFja6fOMf7J"
      }
    },
    {
      "cell_type": "code",
      "source": [
        "import tensorflow as tf\n",
        "def custom_function(x):"
      ],
      "metadata": {
        "id": "xnI2OgWGMj9v"
      },
      "execution_count": null,
      "outputs": []
    },
    {
      "cell_type": "code",
      "source": [
        "import tensorflow as tf\n",
        "def custom_function(x):\n",
        "\n"
      ],
      "metadata": {
        "id": "c_sqGKWhMwnZ"
      },
      "execution_count": null,
      "outputs": []
    },
    {
      "cell_type": "code",
      "source": [
        "import tensorflow as tf\n",
        "def custom_function(n):"
      ],
      "metadata": {
        "id": "BE94YVEANNNM"
      },
      "execution_count": null,
      "outputs": []
    },
    {
      "cell_type": "code",
      "source": [
        "import tensorflow as tf\n",
        "def custom_function(x):"
      ],
      "metadata": {
        "id": "l6SaNL3tNVfc"
      },
      "execution_count": null,
      "outputs": []
    },
    {
      "cell_type": "code",
      "source": [
        "import tensorflow as tf\n",
        "def custom_function(x):\n",
        "  return tf.square(x)\n",
        "\n",
        "def custom_function_with_gradient(x):\n",
        "  y=custom_function(x)\n",
        "def grad(dy):\n",
        "  return 2*x*dy\n",
        "return y,grad\n",
        "x=tf.constant(3,0)\n",
        "with tf.GradientTape() as tape:\n",
        "  tape.watch(x)\n",
        "  y=custom_function_with_gridient(x)\n",
        "grad=tape.gradient(y,x)\n",
        "print(\"Function value:\",y.numpy())\n",
        "print(\"Gradient:\",grad.numpy())\n"
      ],
      "metadata": {
        "id": "J_PzkukXNgeU"
      },
      "execution_count": null,
      "outputs": []
    },
    {
      "cell_type": "code",
      "source": [
        "import tensorflow as tf\n",
        "\n",
        "# Define a function for which you want to compute gradients\n",
        "def custom_function(x):\n",
        "    return tf.square(x)\n",
        "\n",
        "# Define the gradient of the custom function\n",
        "@tf.custom_gradient\n",
        "def custom_function_with_gradient(x):\n",
        "    # Forward pass\n",
        "    y = custom_function(x)\n",
        "\n",
        "    # Define gradient function\n",
        "    def grad(dy):\n",
        "        return 2 * x * dy  # Gradient of x^2 is 2x\n",
        "\n",
        "    return y, grad\n",
        "\n",
        "# Example usage\n",
        "x = tf.constant(3.0)\n",
        "with tf.GradientTape() as tape:\n",
        "    tape.watch(x)\n",
        "    y = custom_function_with_gradient(x)\n",
        "\n",
        "# Compute gradients\n",
        "grad = tape.gradient(y, x)\n",
        "\n",
        "print(\"Function output:\", y.numpy())\n",
        "print(\"Gradient:\", grad.numpy())\n"
      ],
      "metadata": {
        "id": "jAH1_AQuN_ZB"
      },
      "execution_count": null,
      "outputs": []
    }
  ]
}