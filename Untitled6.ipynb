{
  "nbformat": 4,
  "nbformat_minor": 0,
  "metadata": {
    "colab": {
      "provenance": [],
      "authorship_tag": "ABX9TyPTnYP6rh8oUPcsj86jTqwn",
      "include_colab_link": true
    },
    "kernelspec": {
      "name": "python3",
      "display_name": "Python 3"
    },
    "language_info": {
      "name": "python"
    }
  },
  "cells": [
    {
      "cell_type": "markdown",
      "metadata": {
        "id": "view-in-github",
        "colab_type": "text"
      },
      "source": [
        "<a href=\"https://colab.research.google.com/github/shovo896/TensorFlow/blob/main/Untitled6.ipynb\" target=\"_parent\"><img src=\"https://colab.research.google.com/assets/colab-badge.svg\" alt=\"Open In Colab\"/></a>"
      ]
    },
    {
      "cell_type": "markdown",
      "source": [
        "Text Operations"
      ],
      "metadata": {
        "id": "iLEmYxdOe4fE"
      }
    },
    {
      "cell_type": "code",
      "source": [
        "import tensorflow as tf\n",
        "a=tf.constant([3,3,3])\n",
        "b=tf.constant([2,2,2])\n",
        "sum_result=tf.add(a,b)\n",
        "diff_result=tf.subtract(a,b)\n",
        "quot_result=tf.divide(a,b)\n",
        "prod_result=tf.multiply(a,b)\n",
        "\n",
        "print(sum_result)\n",
        "print(diff_result)\n",
        "print(quot_result)\n",
        "print(prod_result)"
      ],
      "metadata": {
        "colab": {
          "base_uri": "https://localhost:8080/"
        },
        "id": "-orFceJKe32r",
        "outputId": "c0e80ccf-6693-4de8-ee44-3ef068c6193b"
      },
      "execution_count": 1,
      "outputs": [
        {
          "output_type": "stream",
          "name": "stdout",
          "text": [
            "tf.Tensor([5 5 5], shape=(3,), dtype=int32)\n",
            "tf.Tensor([1 1 1], shape=(3,), dtype=int32)\n",
            "tf.Tensor([1.5 1.5 1.5], shape=(3,), dtype=float64)\n",
            "tf.Tensor([6 6 6], shape=(3,), dtype=int32)\n"
          ]
        }
      ]
    },
    {
      "cell_type": "markdown",
      "source": [
        "element wise"
      ],
      "metadata": {
        "id": "THoAVHCefsp0"
      }
    },
    {
      "cell_type": "code",
      "execution_count": 5,
      "metadata": {
        "id": "FyGHyy-Ze2H1"
      },
      "outputs": [],
      "source": [
        "import tensorflow as tf\n",
        "a=tf.constant([3,5,7],dtype=tf.float32)\n",
        "b=tf.constant([2,6,4],dtype=tf.float32)\n",
        "if a.shape != b.shape:\n",
        "  raise ValueError(\"Tensors 'a' and 'b' must have the same shape \")\n",
        "if a.dtype != b.dtype:\n",
        "  raise ValueError(\"Tensors 'a' and 'b' must have the same dtype \")\n"
      ]
    },
    {
      "cell_type": "markdown",
      "source": [
        "min-max"
      ],
      "metadata": {
        "id": "yo18ZPeoe2zh"
      }
    },
    {
      "cell_type": "code",
      "source": [
        "import tensorflow as tf\n",
        "\n",
        "# Element-wise operations\n",
        "min_result = tf.minimum(a, b)\n",
        "max_result = tf.maximum(a, b)\n",
        "abs_result = tf.abs(a)\n",
        "log_result = tf.math.log(tf.maximum(a, 1e-8))  # Ensure positive values for logarithm\n",
        "exp_result = tf.exp(a)\n",
        "\n",
        "print(\"Minimum:\", min_result)\n",
        "print(\"Maximum:\", max_result)\n",
        "print(\"Absolute value:\", abs_result)\n",
        "print(\"Logarithm:\", log_result)\n",
        "print(\"Exponential:\", exp_result)"
      ],
      "metadata": {
        "colab": {
          "base_uri": "https://localhost:8080/"
        },
        "id": "G1NnFUgjgrJO",
        "outputId": "e898cf09-b8f3-409d-b978-c156fc56b451"
      },
      "execution_count": 6,
      "outputs": [
        {
          "output_type": "stream",
          "name": "stdout",
          "text": [
            "Minimum: tf.Tensor([2. 5. 4.], shape=(3,), dtype=float32)\n",
            "Maximum: tf.Tensor([3. 6. 7.], shape=(3,), dtype=float32)\n",
            "Absolute value: tf.Tensor([3. 5. 7.], shape=(3,), dtype=float32)\n",
            "Logarithm: tf.Tensor([1.0986123 1.609438  1.9459101], shape=(3,), dtype=float32)\n",
            "Exponential: tf.Tensor([  20.085537  148.41316  1096.6332  ], shape=(3,), dtype=float32)\n"
          ]
        }
      ]
    },
    {
      "cell_type": "code",
      "source": [
        "import tensorflow as tf\n",
        "print(\"2\")"
      ],
      "metadata": {
        "colab": {
          "base_uri": "https://localhost:8080/"
        },
        "id": "P8N8Bg6dg4G2",
        "outputId": "babc8357-041a-43b7-9e7a-a2bf86454e29"
      },
      "execution_count": 7,
      "outputs": [
        {
          "output_type": "stream",
          "name": "stdout",
          "text": [
            "2\n"
          ]
        }
      ]
    },
    {
      "cell_type": "code",
      "source": [
        "x=tf.constant([[1,2,3],[43,5,6]])\n",
        "mean_result=tf.reduce_mean(x,axis=0)\n",
        "print(mean_result)"
      ],
      "metadata": {
        "colab": {
          "base_uri": "https://localhost:8080/"
        },
        "id": "csyEDxq1hCfL",
        "outputId": "bcd03c74-a85e-4d2c-b02f-cf297e593d33"
      },
      "execution_count": 8,
      "outputs": [
        {
          "output_type": "stream",
          "name": "stdout",
          "text": [
            "tf.Tensor([22  3  4], shape=(3,), dtype=int32)\n"
          ]
        }
      ]
    },
    {
      "cell_type": "markdown",
      "source": [
        "log space operations"
      ],
      "metadata": {
        "id": "FCaoWqDchmNu"
      }
    },
    {
      "cell_type": "code",
      "source": [
        "import tensorflow as tf\n",
        "x=tf.constant([[1.0,2.0,3.0],[4.0,5.0,6.0]])\n",
        "logsumexp_result=tf.math_logsumexp(x,axis=1)\n",
        "print(logsumexp_result)"
      ],
      "metadata": {
        "colab": {
          "base_uri": "https://localhost:8080/",
          "height": 193
        },
        "id": "CV5rEEYthXSC",
        "outputId": "1debfc08-0834-4892-e3bd-f75502477664"
      },
      "execution_count": 9,
      "outputs": [
        {
          "output_type": "error",
          "ename": "AttributeError",
          "evalue": "module 'tensorflow' has no attribute 'math_logsumexp'",
          "traceback": [
            "\u001b[0;31m---------------------------------------------------------------------------\u001b[0m",
            "\u001b[0;31mAttributeError\u001b[0m                            Traceback (most recent call last)",
            "\u001b[0;32m/tmp/ipython-input-936928461.py\u001b[0m in \u001b[0;36m<cell line: 0>\u001b[0;34m()\u001b[0m\n\u001b[1;32m      1\u001b[0m \u001b[0;32mimport\u001b[0m \u001b[0mtensorflow\u001b[0m \u001b[0;32mas\u001b[0m \u001b[0mtf\u001b[0m\u001b[0;34m\u001b[0m\u001b[0;34m\u001b[0m\u001b[0m\n\u001b[1;32m      2\u001b[0m \u001b[0mx\u001b[0m\u001b[0;34m=\u001b[0m\u001b[0mtf\u001b[0m\u001b[0;34m.\u001b[0m\u001b[0mconstant\u001b[0m\u001b[0;34m(\u001b[0m\u001b[0;34m[\u001b[0m\u001b[0;34m[\u001b[0m\u001b[0;36m1.0\u001b[0m\u001b[0;34m,\u001b[0m\u001b[0;36m2.0\u001b[0m\u001b[0;34m,\u001b[0m\u001b[0;36m3.0\u001b[0m\u001b[0;34m]\u001b[0m\u001b[0;34m,\u001b[0m\u001b[0;34m[\u001b[0m\u001b[0;36m4.0\u001b[0m\u001b[0;34m,\u001b[0m\u001b[0;36m5.0\u001b[0m\u001b[0;34m,\u001b[0m\u001b[0;36m6.0\u001b[0m\u001b[0;34m]\u001b[0m\u001b[0;34m]\u001b[0m\u001b[0;34m)\u001b[0m\u001b[0;34m\u001b[0m\u001b[0;34m\u001b[0m\u001b[0m\n\u001b[0;32m----> 3\u001b[0;31m \u001b[0mlogsumexp_result\u001b[0m\u001b[0;34m=\u001b[0m\u001b[0mtf\u001b[0m\u001b[0;34m.\u001b[0m\u001b[0mmath_logsumexp\u001b[0m\u001b[0;34m(\u001b[0m\u001b[0mx\u001b[0m\u001b[0;34m,\u001b[0m\u001b[0maxis\u001b[0m\u001b[0;34m=\u001b[0m\u001b[0;36m1\u001b[0m\u001b[0;34m)\u001b[0m\u001b[0;34m\u001b[0m\u001b[0;34m\u001b[0m\u001b[0m\n\u001b[0m\u001b[1;32m      4\u001b[0m \u001b[0mprint\u001b[0m\u001b[0;34m(\u001b[0m\u001b[0mlogsumexp_result\u001b[0m\u001b[0;34m)\u001b[0m\u001b[0;34m\u001b[0m\u001b[0;34m\u001b[0m\u001b[0m\n",
            "\u001b[0;31mAttributeError\u001b[0m: module 'tensorflow' has no attribute 'math_logsumexp'"
          ]
        }
      ]
    },
    {
      "cell_type": "code",
      "source": [
        "import tensorflow as tf\n",
        "\n",
        "x = tf.constant([[1.0, 2.0, 3.0], [4.0, 5.0, 6.0]])\n",
        "logsumexp_result = tf.math.reduce_logsumexp(x, axis=1)\n",
        "print(logsumexp_result)"
      ],
      "metadata": {
        "colab": {
          "base_uri": "https://localhost:8080/"
        },
        "id": "5Z-KF-I8iEhv",
        "outputId": "2bdf12f8-ec35-439b-f712-a684845a3f42"
      },
      "execution_count": 10,
      "outputs": [
        {
          "output_type": "stream",
          "name": "stdout",
          "text": [
            "tf.Tensor([3.407606 6.407606], shape=(2,), dtype=float32)\n"
          ]
        }
      ]
    },
    {
      "cell_type": "markdown",
      "source": [
        "Differentiation with tensors"
      ],
      "metadata": {
        "id": "Gbmszr3PiKkU"
      }
    },
    {
      "cell_type": "code",
      "source": [
        "import tensorflow as tf\n",
        "x=tf.variable(3.0)\n",
        "def compute_gradient(x):\n",
        "  with tf.GradientTape() as tape:\n",
        "    y=x*x\n",
        "  gradient=tape.gradient(y,x)\n",
        "  return gradient\n",
        "gradient=compute_gradient(x)\n",
        "print(gradient)"
      ],
      "metadata": {
        "colab": {
          "base_uri": "https://localhost:8080/",
          "height": 211
        },
        "id": "Q-_s53reiPLf",
        "outputId": "43a51c91-a360-4269-9094-bfe2b78cc46c"
      },
      "execution_count": 11,
      "outputs": [
        {
          "output_type": "error",
          "ename": "AttributeError",
          "evalue": "module 'tensorflow' has no attribute 'variable'",
          "traceback": [
            "\u001b[0;31m---------------------------------------------------------------------------\u001b[0m",
            "\u001b[0;31mAttributeError\u001b[0m                            Traceback (most recent call last)",
            "\u001b[0;32m/tmp/ipython-input-4043664074.py\u001b[0m in \u001b[0;36m<cell line: 0>\u001b[0;34m()\u001b[0m\n\u001b[1;32m      1\u001b[0m \u001b[0;32mimport\u001b[0m \u001b[0mtensorflow\u001b[0m \u001b[0;32mas\u001b[0m \u001b[0mtf\u001b[0m\u001b[0;34m\u001b[0m\u001b[0;34m\u001b[0m\u001b[0m\n\u001b[0;32m----> 2\u001b[0;31m \u001b[0mx\u001b[0m\u001b[0;34m=\u001b[0m\u001b[0mtf\u001b[0m\u001b[0;34m.\u001b[0m\u001b[0mvariable\u001b[0m\u001b[0;34m(\u001b[0m\u001b[0;36m3.0\u001b[0m\u001b[0;34m)\u001b[0m\u001b[0;34m\u001b[0m\u001b[0;34m\u001b[0m\u001b[0m\n\u001b[0m\u001b[1;32m      3\u001b[0m \u001b[0;32mdef\u001b[0m \u001b[0mcompute_gradient\u001b[0m\u001b[0;34m(\u001b[0m\u001b[0mx\u001b[0m\u001b[0;34m)\u001b[0m\u001b[0;34m:\u001b[0m\u001b[0;34m\u001b[0m\u001b[0;34m\u001b[0m\u001b[0m\n\u001b[1;32m      4\u001b[0m   \u001b[0;32mwith\u001b[0m \u001b[0mtf\u001b[0m\u001b[0;34m.\u001b[0m\u001b[0mGradientTape\u001b[0m\u001b[0;34m(\u001b[0m\u001b[0;34m)\u001b[0m \u001b[0;32mas\u001b[0m \u001b[0mtape\u001b[0m\u001b[0;34m:\u001b[0m\u001b[0;34m\u001b[0m\u001b[0;34m\u001b[0m\u001b[0m\n\u001b[1;32m      5\u001b[0m     \u001b[0my\u001b[0m\u001b[0;34m=\u001b[0m\u001b[0mx\u001b[0m\u001b[0;34m*\u001b[0m\u001b[0mx\u001b[0m\u001b[0;34m\u001b[0m\u001b[0;34m\u001b[0m\u001b[0m\n",
            "\u001b[0;31mAttributeError\u001b[0m: module 'tensorflow' has no attribute 'variable'"
          ]
        }
      ]
    },
    {
      "cell_type": "markdown",
      "source": [
        "lets write in a new"
      ],
      "metadata": {
        "id": "CR6QRIVyikUc"
      }
    },
    {
      "cell_type": "code",
      "source": [
        "import tensorflow as tf\n",
        "\n",
        "# Define a variable\n",
        "x = tf.Variable(3.0)\n",
        "\n",
        "# Define a function\n",
        "def compute_gradient(x):\n",
        "    with tf.GradientTape() as tape:\n",
        "        y = x**2\n",
        "    return tape.gradient(y, x)\n",
        "\n",
        "# Compute the gradient\n",
        "gradient = compute_gradient(x)  # Output: 6.0\n",
        "print(gradient)"
      ],
      "metadata": {
        "colab": {
          "base_uri": "https://localhost:8080/"
        },
        "id": "dN6VxAakioJw",
        "outputId": "550c59cc-c14e-486b-d673-2380d28cc409"
      },
      "execution_count": 12,
      "outputs": [
        {
          "output_type": "stream",
          "name": "stdout",
          "text": [
            "tf.Tensor(6.0, shape=(), dtype=float32)\n"
          ]
        }
      ]
    }
  ]
}