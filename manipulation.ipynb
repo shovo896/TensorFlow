{
  "nbformat": 4,
  "nbformat_minor": 0,
  "metadata": {
    "colab": {
      "provenance": [],
      "authorship_tag": "ABX9TyMB3SVBvtUcpzpcQdtc9fXS",
      "include_colab_link": true
    },
    "kernelspec": {
      "name": "python3",
      "display_name": "Python 3"
    },
    "language_info": {
      "name": "python"
    }
  },
  "cells": [
    {
      "cell_type": "markdown",
      "metadata": {
        "id": "view-in-github",
        "colab_type": "text"
      },
      "source": [
        "<a href=\"https://colab.research.google.com/github/shovo896/TensorFlow/blob/main/manipulation.ipynb\" target=\"_parent\"><img src=\"https://colab.research.google.com/assets/colab-badge.svg\" alt=\"Open In Colab\"/></a>"
      ]
    },
    {
      "cell_type": "code",
      "execution_count": 1,
      "metadata": {
        "colab": {
          "base_uri": "https://localhost:8080/",
          "height": 211
        },
        "id": "Yya-h_-G053w",
        "outputId": "2bf49bc4-fb0b-444e-9385-c80e7e048b41"
      },
      "outputs": [
        {
          "output_type": "error",
          "ename": "NameError",
          "evalue": "name 'dense_shape' is not defined",
          "traceback": [
            "\u001b[0;31m---------------------------------------------------------------------------\u001b[0m",
            "\u001b[0;31mNameError\u001b[0m                                 Traceback (most recent call last)",
            "\u001b[0;32m/tmp/ipython-input-3996776434.py\u001b[0m in \u001b[0;36m<cell line: 0>\u001b[0;34m()\u001b[0m\n\u001b[1;32m      2\u001b[0m \u001b[0mvalues\u001b[0m\u001b[0;34m=\u001b[0m\u001b[0mtf\u001b[0m\u001b[0;34m.\u001b[0m\u001b[0mconstant\u001b[0m\u001b[0;34m(\u001b[0m\u001b[0;34m[\u001b[0m\u001b[0;36m41\u001b[0m\u001b[0;34m,\u001b[0m\u001b[0;36m30\u001b[0m\u001b[0;34m]\u001b[0m\u001b[0;34m,\u001b[0m\u001b[0mdtype\u001b[0m\u001b[0;34m=\u001b[0m\u001b[0mtf\u001b[0m\u001b[0;34m.\u001b[0m\u001b[0mint32\u001b[0m\u001b[0;34m)\u001b[0m\u001b[0;34m\u001b[0m\u001b[0;34m\u001b[0m\u001b[0m\n\u001b[1;32m      3\u001b[0m \u001b[0mindices\u001b[0m\u001b[0;34m=\u001b[0m\u001b[0mtf\u001b[0m\u001b[0;34m.\u001b[0m\u001b[0mconstant\u001b[0m\u001b[0;34m(\u001b[0m\u001b[0;34m[\u001b[0m\u001b[0;34m[\u001b[0m\u001b[0;36m1\u001b[0m\u001b[0;34m,\u001b[0m\u001b[0;36m2\u001b[0m\u001b[0;34m]\u001b[0m\u001b[0;34m,\u001b[0m\u001b[0;34m[\u001b[0m\u001b[0;36m3\u001b[0m\u001b[0;34m,\u001b[0m\u001b[0;36m3\u001b[0m\u001b[0;34m]\u001b[0m\u001b[0;34m]\u001b[0m\u001b[0;34m,\u001b[0m\u001b[0mdtype\u001b[0m\u001b[0;34m=\u001b[0m\u001b[0mtf\u001b[0m\u001b[0;34m.\u001b[0m\u001b[0mint64\u001b[0m\u001b[0;34m)\u001b[0m\u001b[0;34m\u001b[0m\u001b[0;34m\u001b[0m\u001b[0m\n\u001b[0;32m----> 4\u001b[0;31m \u001b[0msparse_tensor\u001b[0m\u001b[0;34m=\u001b[0m\u001b[0mtf\u001b[0m\u001b[0;34m.\u001b[0m\u001b[0mSparseTensor\u001b[0m\u001b[0;34m(\u001b[0m\u001b[0mindices\u001b[0m\u001b[0;34m=\u001b[0m\u001b[0mindices\u001b[0m\u001b[0;34m,\u001b[0m\u001b[0mvalues\u001b[0m\u001b[0;34m=\u001b[0m\u001b[0mvalues\u001b[0m\u001b[0;34m,\u001b[0m\u001b[0mdense_shape\u001b[0m\u001b[0;34m=\u001b[0m\u001b[0mdense_shape\u001b[0m\u001b[0;34m)\u001b[0m\u001b[0;34m\u001b[0m\u001b[0;34m\u001b[0m\u001b[0m\n\u001b[0m\u001b[1;32m      5\u001b[0m \u001b[0mprint\u001b[0m\u001b[0;34m(\u001b[0m\u001b[0msparse_tensor\u001b[0m\u001b[0;34m)\u001b[0m\u001b[0;34m\u001b[0m\u001b[0;34m\u001b[0m\u001b[0m\n",
            "\u001b[0;31mNameError\u001b[0m: name 'dense_shape' is not defined"
          ]
        }
      ],
      "source": [
        "import tensorflow as tf\n",
        "values=tf.constant([41,30],dtype=tf.int32)\n",
        "indices=tf.constant([[1,2],[3,3]],dtype=tf.int64)\n",
        "sparse_tensor=tf.SparseTensor(indices=indices,values=values,dense_shape=dense_shape)\n",
        "print(sparse_tensor)\n"
      ]
    },
    {
      "cell_type": "code",
      "source": [
        "import tensorflow as tf\n",
        "\n",
        "\n",
        "values = tf.constant([41, 30], dtype=tf.int32)\n",
        "indices = tf.constant([[1, 2], [3, 3]], dtype=tf.int64)\n",
        "dense_shape = tf.constant([4, 8], dtype=tf.int64)\n",
        "\n",
        "\n",
        "sparse_tensor = tf.sparse.SparseTensor(indices=indices, values=values, dense_shape=dense_shape)\n",
        "\n",
        "\n",
        "print(sparse_tensor)"
      ],
      "metadata": {
        "colab": {
          "base_uri": "https://localhost:8080/"
        },
        "id": "VQjn5Uyv2gDi",
        "outputId": "c915f433-969d-4e77-89de-27a8b6079175"
      },
      "execution_count": 2,
      "outputs": [
        {
          "output_type": "stream",
          "name": "stdout",
          "text": [
            "SparseTensor(indices=tf.Tensor(\n",
            "[[1 2]\n",
            " [3 3]], shape=(2, 2), dtype=int64), values=tf.Tensor([41 30], shape=(2,), dtype=int32), dense_shape=tf.Tensor([4 8], shape=(2,), dtype=int64))\n"
          ]
        }
      ]
    },
    {
      "cell_type": "code",
      "source": [
        "import tensorflow as tf\n",
        "desnse_tensor=tf.constant([[1,0,0],[0,0,2],[0,3,0]])\n",
        "sparse_tensor=tf.sparse.from_dense(dense_tensor)\n",
        "print(&quot;Dense Tensor:&quot;)\n",
        "print(desnse_tensor)\n",
        "print(&quot\\n;Sparse Tensor:&quot;)\n",
        "print(sparse_tensor)"
      ],
      "metadata": {
        "colab": {
          "base_uri": "https://localhost:8080/",
          "height": 106
        },
        "id": "QCJXRZIR3NCj",
        "outputId": "914f3609-64b5-451d-802a-199351966267"
      },
      "execution_count": 3,
      "outputs": [
        {
          "output_type": "error",
          "ename": "SyntaxError",
          "evalue": "invalid syntax (ipython-input-2391429741.py, line 4)",
          "traceback": [
            "\u001b[0;36m  File \u001b[0;32m\"/tmp/ipython-input-2391429741.py\"\u001b[0;36m, line \u001b[0;32m4\u001b[0m\n\u001b[0;31m    print(&quot;Dense Tensor:&quot;)\u001b[0m\n\u001b[0m          ^\u001b[0m\n\u001b[0;31mSyntaxError\u001b[0m\u001b[0;31m:\u001b[0m invalid syntax\n"
          ]
        }
      ]
    },
    {
      "cell_type": "code",
      "source": [
        "import tensorflow as tf\n",
        "\n",
        "\n",
        "dense_tensor = tf.constant([[1, 0, 0], [0, 0, 2], [0, 3, 0]], dtype=tf.float32)\n",
        "\n",
        "\n",
        "sparse_tensor = tf.sparse.from_dense(dense_tensor)\n",
        "\n",
        "\n",
        "print(&quot;Dense Tensor:&quot;)\n",
        "print(dense_tensor)\n",
        "\n",
        "print(&quot;\\nSparse Tensor:&quot;)\n",
        "print(sparse_tensor)"
      ],
      "metadata": {
        "colab": {
          "base_uri": "https://localhost:8080/",
          "height": 106
        },
        "id": "FW0oQyWr4GFt",
        "outputId": "04455dd1-b005-4ae7-e2b9-16a64d7e8f05"
      },
      "execution_count": 4,
      "outputs": [
        {
          "output_type": "error",
          "ename": "SyntaxError",
          "evalue": "invalid syntax (ipython-input-1258771357.py, line 10)",
          "traceback": [
            "\u001b[0;36m  File \u001b[0;32m\"/tmp/ipython-input-1258771357.py\"\u001b[0;36m, line \u001b[0;32m10\u001b[0m\n\u001b[0;31m    print(&quot;Dense Tensor:&quot;)\u001b[0m\n\u001b[0m          ^\u001b[0m\n\u001b[0;31mSyntaxError\u001b[0m\u001b[0;31m:\u001b[0m invalid syntax\n"
          ]
        }
      ]
    },
    {
      "cell_type": "code",
      "source": [
        "import tensorflow as tf\n",
        "sparse_tensor=tf.sparse.SparseTensor(indices=[[0,0],[2,4],values=[10,40],dense_shape=[5,5]])\n",
        "sparse_tensor=tf.sparse.SparseTensor(indices=[[0,0],[4,2],values=[30,40],dense_shape=[5,5])\n",
        "result_sparse_tensor=tf.sparse.add(sparse_tensor1,sparse_tensor2)\n",
        "print(result_sparse_tensor)"
      ],
      "metadata": {
        "colab": {
          "base_uri": "https://localhost:8080/",
          "height": 141
        },
        "id": "ihdfSFeY4Q8m",
        "outputId": "29dcf955-3b4e-4aca-e04e-4be5fdabcfb9"
      },
      "execution_count": 5,
      "outputs": [
        {
          "output_type": "error",
          "ename": "SyntaxError",
          "evalue": "closing parenthesis ')' does not match opening parenthesis '[' (ipython-input-3519679510.py, line 3)",
          "traceback": [
            "\u001b[0;36m  File \u001b[0;32m\"/tmp/ipython-input-3519679510.py\"\u001b[0;36m, line \u001b[0;32m3\u001b[0m\n\u001b[0;31m    sparse_tensor=tf.sparse.SparseTensor(indices=[[0,0],[4,2],values=[30,40],dense_shape=[5,5])\u001b[0m\n\u001b[0m                                                                                              ^\u001b[0m\n\u001b[0;31mSyntaxError\u001b[0m\u001b[0;31m:\u001b[0m closing parenthesis ')' does not match opening parenthesis '['\n"
          ]
        }
      ]
    },
    {
      "cell_type": "markdown",
      "source": [
        "arithmetic manipulations"
      ],
      "metadata": {
        "id": "Tg2OVSPO56bg"
      }
    },
    {
      "cell_type": "code",
      "source": [
        "import tensorflow as tf\n",
        "\n",
        "# Create two sparse tensors\n",
        "sparse_tensor1 = tf.sparse.SparseTensor(indices=[[0, 3], [2, 4]],\n",
        "                      values=[10, 20],\n",
        "                      dense_shape=[5, 5])\n",
        "sparse_tensor2 = tf.sparse.SparseTensor(indices=[[1, 2], [4, 2]],\n",
        "                      values=[30, 40],\n",
        "                      dense_shape=[5, 5])\n",
        "\n",
        "# Add sparse tensors\n",
        "result_sparse_tensor = tf.sparse.add(sparse_tensor1, sparse_tensor2)\n",
        "\n",
        "# Print the result\n",
        "print(result_sparse_tensor)"
      ],
      "metadata": {
        "colab": {
          "base_uri": "https://localhost:8080/"
        },
        "id": "ZBvhlmLr52C4",
        "outputId": "dc8ca2af-72ae-4657-f813-9efddb40b308"
      },
      "execution_count": 6,
      "outputs": [
        {
          "output_type": "stream",
          "name": "stdout",
          "text": [
            "SparseTensor(indices=tf.Tensor(\n",
            "[[0 3]\n",
            " [1 2]\n",
            " [2 4]\n",
            " [4 2]], shape=(4, 2), dtype=int64), values=tf.Tensor([10 30 20 40], shape=(4,), dtype=int32), dense_shape=tf.Tensor([5 5], shape=(2,), dtype=int64))\n"
          ]
        }
      ]
    },
    {
      "cell_type": "markdown",
      "source": [
        "saprse-dense matrix maltiplication"
      ],
      "metadata": {
        "id": "zNNUFz136DFy"
      }
    },
    {
      "cell_type": "code",
      "source": [
        "import tensorflow as tf\n",
        "sparse_indices=tf.constant([[0,2],[1,0],[1,2],[2,1]],dtype=tf.int64)\n",
        "sparse_values=tf.constant([1,3,2,4],dtype=tf.int64)\n",
        "\n",
        "sparse_tensor=tf.sparse.SparseTensor(indices=sparse_indices,values=sparse_values,dense_shape=sparse_shape)\n",
        "dense_matrix=tf.constant([[1,2,2],[4,5,0],[7,8,0],dtype=tf.float32])\n",
        "\n",
        "result_dense_matrix=tf.sparse.sparse_dense_matmul(sparse_tensor,dense_matrix)\n",
        "\n",
        "print(&quot;Sparse Tensor:&quot;)\n",
        "print(sparse_tensor)\n",
        "print(&quot;\\nDense Matrix:&quot;)\n",
        "print(dense_matrix)\n",
        "print(&quot;\\nResult Dense Matrix:&quot;)\n",
        "print(result_dense_matrix)\n"
      ],
      "metadata": {
        "colab": {
          "base_uri": "https://localhost:8080/",
          "height": 106
        },
        "id": "WStMqnDX6NAX",
        "outputId": "3f887d5e-6e60-4771-ba80-f517da71c46d"
      },
      "execution_count": 7,
      "outputs": [
        {
          "output_type": "error",
          "ename": "SyntaxError",
          "evalue": "invalid syntax. Maybe you meant '==' or ':=' instead of '='? (ipython-input-2865462205.py, line 6)",
          "traceback": [
            "\u001b[0;36m  File \u001b[0;32m\"/tmp/ipython-input-2865462205.py\"\u001b[0;36m, line \u001b[0;32m6\u001b[0m\n\u001b[0;31m    dense_matrix=tf.constant([[1,2,2],[4,5,0],[7,8,0],dtype=tf.float32])\u001b[0m\n\u001b[0m                                                      ^\u001b[0m\n\u001b[0;31mSyntaxError\u001b[0m\u001b[0;31m:\u001b[0m invalid syntax. Maybe you meant '==' or ':=' instead of '='?\n"
          ]
        }
      ]
    },
    {
      "cell_type": "code",
      "source": [
        "import tensorflow as tf\n",
        "\n",
        "# Define a sparse tensor\n",
        "sparse_indices = tf.constant([[0, 2], [1, 0], [1, 2], [2, 1]], dtype=tf.int64)\n",
        "sparse_values = tf.constant([1.0, 2.0, 3.0, 4.0], dtype=tf.float32)\n",
        "sparse_shape = tf.constant([3, 3], dtype=tf.int64)\n",
        "\n",
        "sparse_tensor = tf.sparse.SparseTensor(indices=sparse_indices, values=sparse_values, dense_shape=sparse_shape)\n",
        "\n",
        "# Define a dense matrix\n",
        "dense_matrix = tf.constant([[1.0, 2.0, 3.0], [4.0, 5.0, 6.0], [7.0, 8.0, 9.0]], dtype=tf.float32)\n",
        "\n",
        "# Perform sparse-dense matrix multiplication\n",
        "result_dense_matrix = tf.sparse.sparse_dense_matmul(sparse_tensor, dense_matrix)\n",
        "\n",
        "# Print the result\n",
        "print(&quot;Sparse Tensor:&quot;)\n",
        "print(sparse_tensor)\n",
        "\n",
        "print(&quot;\\nDense Matrix:&quot;)\n",
        "print(dense_matrix)\n",
        "\n",
        "print(&quot;\\nResult of Sparse-Dense Matrix Multiplication:&quot;)\n",
        "print(result_dense_matrix)"
      ],
      "metadata": {
        "colab": {
          "base_uri": "https://localhost:8080/",
          "height": 106
        },
        "id": "QP2BCy7w8eaa",
        "outputId": "8a930a6a-ece4-4803-ba2a-9ddc807541f7"
      },
      "execution_count": 8,
      "outputs": [
        {
          "output_type": "error",
          "ename": "SyntaxError",
          "evalue": "invalid syntax (ipython-input-1992932331.py, line 17)",
          "traceback": [
            "\u001b[0;36m  File \u001b[0;32m\"/tmp/ipython-input-1992932331.py\"\u001b[0;36m, line \u001b[0;32m17\u001b[0m\n\u001b[0;31m    print(&quot;Sparse Tensor:&quot;)\u001b[0m\n\u001b[0m          ^\u001b[0m\n\u001b[0;31mSyntaxError\u001b[0m\u001b[0;31m:\u001b[0m invalid syntax\n"
          ]
        }
      ]
    },
    {
      "cell_type": "code",
      "source": [
        "import tensorflow as tf\n",
        "\n",
        "# Define a sparse tensor\n",
        "sparse_indices = tf.constant([[0, 2], [1, 0], [1, 2], [2, 1]], dtype=tf.int64)\n",
        "sparse_values = tf.constant([1.0, 2.0, 3.0, 4.0], dtype=tf.float32)\n",
        "sparse_shape = tf.constant([3, 3], dtype=tf.int64)\n",
        "\n",
        "sparse_tensor = tf.sparse.SparseTensor(indices=sparse_indices, values=sparse_values, dense_shape=sparse_shape)\n",
        "\n",
        "# Define a dense matrix\n",
        "dense_matrix = tf.constant([[1.0, 2.0, 3.0],\n",
        "                            [4.0, 5.0, 6.0],\n",
        "                            [7.0, 8.0, 9.0]], dtype=tf.float32)\n",
        "\n",
        "# Perform sparse-dense matrix multiplication\n",
        "result_dense_matrix = tf.sparse.sparse_dense_matmul(sparse_tensor, dense_matrix)\n",
        "\n",
        "# Print the result\n",
        "print(\"Sparse Tensor:\")\n",
        "print(sparse_tensor)\n",
        "\n",
        "print(\"\\nDense Matrix:\")\n",
        "print(dense_matrix)\n",
        "\n",
        "print(\"\\nResult of Sparse-Dense Matrix Multiplication:\")\n",
        "print(result_dense_matrix)\n"
      ],
      "metadata": {
        "colab": {
          "base_uri": "https://localhost:8080/"
        },
        "id": "SfJ4PTe-811R",
        "outputId": "f01c1423-4f14-4175-c9f2-cfef65b6c7c3"
      },
      "execution_count": 9,
      "outputs": [
        {
          "output_type": "stream",
          "name": "stdout",
          "text": [
            "Sparse Tensor:\n",
            "SparseTensor(indices=tf.Tensor(\n",
            "[[0 2]\n",
            " [1 0]\n",
            " [1 2]\n",
            " [2 1]], shape=(4, 2), dtype=int64), values=tf.Tensor([1. 2. 3. 4.], shape=(4,), dtype=float32), dense_shape=tf.Tensor([3 3], shape=(2,), dtype=int64))\n",
            "\n",
            "Dense Matrix:\n",
            "tf.Tensor(\n",
            "[[1. 2. 3.]\n",
            " [4. 5. 6.]\n",
            " [7. 8. 9.]], shape=(3, 3), dtype=float32)\n",
            "\n",
            "Result of Sparse-Dense Matrix Multiplication:\n",
            "tf.Tensor(\n",
            "[[ 7.  8.  9.]\n",
            " [23. 28. 33.]\n",
            " [16. 20. 24.]], shape=(3, 3), dtype=float32)\n"
          ]
        }
      ]
    },
    {
      "cell_type": "markdown",
      "source": [
        "In order to concatenate two sparse tensors, you can use tf.sparse.concat method. Check the example given below that concatenates two sparse tensors.\n",
        "\n",
        "\n",
        "\n",
        "\n"
      ],
      "metadata": {
        "id": "zPsZdRSY8-AT"
      }
    },
    {
      "cell_type": "code",
      "source": [
        "import tensorflow as tf\n",
        "sparse_indices1=tf.constant([[0,1],[1,0],[2,2]],dtype=tf.int64)\n",
        "sparse_values1=tf.constant([1,2,3],dtype=tf.int64)\n",
        "sparse_shape1=tf.constant([3,3],dtype=tf.int64)\n",
        "\n",
        "sparse_tensor1=tf.sparse.SparseTensor(indices=sparse_indices1,values=sparse_values1,dense_shape=sparse_shape1)\n",
        "\n",
        "sparse_indices2=tf.constant([[3,0],[4,0]],dtype=tf.int64)\n",
        "sparse_values2=tf.constant([6,8],dtype=tf.int32)\n",
        "sparse_shape2=tf.constant([5,3],dtype=tf.int64)\n",
        "sparse_tensor=tf.sparse.SparseTensor(indices=sparse_indices2,values=sparse_values2,dense_shape=sparse_shape2)\n",
        "\n",
        "result_sparse_tensor=tf.shape.concat(axis=0,sp_inputs=[sparse_tensor1,sparse_tensor2])\n",
        "\n",
        "\n",
        "result_sparse_tensor=tf.sparse.concat(axis=0,sp_inputs=[sparse_tensor1,sparse_tensor2])\n",
        "\n",
        "print(&quot;Sparse Tensor 1:&quot;)\n",
        "print(sparse_tensor1)\n",
        "print(&quot;\\nSparse Tensor 2:&quot;)\n",
        "print(sparse_tensor2)\n",
        "\n",
        "print(&quot;\\nResult of Concatenation:&quot;)\n",
        "print(result_sparse_tensor)\n"
      ],
      "metadata": {
        "colab": {
          "base_uri": "https://localhost:8080/",
          "height": 106
        },
        "id": "_IHjgjVU9DkZ",
        "outputId": "0ee64c34-8453-471c-beda-ef5739b98e90"
      },
      "execution_count": 10,
      "outputs": [
        {
          "output_type": "error",
          "ename": "SyntaxError",
          "evalue": "invalid syntax (ipython-input-2158506642.py, line 18)",
          "traceback": [
            "\u001b[0;36m  File \u001b[0;32m\"/tmp/ipython-input-2158506642.py\"\u001b[0;36m, line \u001b[0;32m18\u001b[0m\n\u001b[0;31m    print(&quot;Sparse Tensor 1:&quot;)\u001b[0m\n\u001b[0m          ^\u001b[0m\n\u001b[0;31mSyntaxError\u001b[0m\u001b[0;31m:\u001b[0m invalid syntax\n"
          ]
        }
      ]
    },
    {
      "cell_type": "code",
      "source": [
        "import tensorflow as tf\n",
        "\n",
        "\n",
        "sparse_indices1 = tf.constant([[0, 1], [1, 0], [2, 2]], dtype=tf.int64)\n",
        "sparse_values1 = tf.constant([9, 2, 5], dtype=tf.int32)\n",
        "sparse_shape1 = tf.constant([3, 3], dtype=tf.int64)\n",
        "\n",
        "sparse_tensor1 = tf.sparse.SparseTensor(indices=sparse_indices1, values=sparse_values1, dense_shape=sparse_shape1)\n",
        "\n",
        "sparse_indices2 = tf.constant([[3, 1], [4, 0]], dtype=tf.int64)\n",
        "sparse_values2 = tf.constant([6, 8], dtype=tf.int32)\n",
        "sparse_shape2 = tf.constant([5, 3], dtype=tf.int64)\n",
        "\n",
        "sparse_tensor2 = tf.sparse.SparseTensor(indices=sparse_indices2, values=sparse_values2, dense_shape=sparse_shape2)\n",
        "\n",
        "\n",
        "result_sparse_tensor = tf.sparse.concat(axis=0, sp_inputs=[sparse_tensor1, sparse_tensor2])\n",
        "\n",
        "\n",
        "print(&quot;Sparse Tensor 1:&quot;)\n",
        "print(sparse_tensor1)\n",
        "\n",
        "print(&quot;\\nSparse Tensor 2:&quot;)\n",
        "print(sparse_tensor2)\n",
        "\n",
        "print(&quot;\\nResult of Concatenation:&quot;)\n",
        "print(result_sparse_tensor)"
      ],
      "metadata": {
        "colab": {
          "base_uri": "https://localhost:8080/",
          "height": 106
        },
        "id": "rXPfanG7BFC2",
        "outputId": "4b02c062-62f2-41c6-a84b-486c51fea640"
      },
      "execution_count": 11,
      "outputs": [
        {
          "output_type": "error",
          "ename": "SyntaxError",
          "evalue": "invalid syntax (ipython-input-928393757.py, line 20)",
          "traceback": [
            "\u001b[0;36m  File \u001b[0;32m\"/tmp/ipython-input-928393757.py\"\u001b[0;36m, line \u001b[0;32m20\u001b[0m\n\u001b[0;31m    print(&quot;Sparse Tensor 1:&quot;)\u001b[0m\n\u001b[0m          ^\u001b[0m\n\u001b[0;31mSyntaxError\u001b[0m\u001b[0;31m:\u001b[0m invalid syntax\n"
          ]
        }
      ]
    },
    {
      "cell_type": "code",
      "source": [
        "import tensorflow as tf\n",
        "\n",
        "\n",
        "sparse_indices1 = tf.constant([[0, 1], [1, 0], [2, 2]], dtype=tf.int64)\n",
        "sparse_values1 = tf.constant([9, 2, 5], dtype=tf.int32)\n",
        "sparse_shape1 = tf.constant([3, 3], dtype=tf.int64)\n",
        "\n",
        "sparse_tensor1 = tf.sparse.SparseTensor(\n",
        "    indices=sparse_indices1,\n",
        "    values=sparse_values1,\n",
        "    dense_shape=sparse_shape1\n",
        ")\n",
        "\n",
        "sparse_indices2 = tf.constant([[3, 1], [4, 0]], dtype=tf.int64)\n",
        "sparse_values2 = tf.constant([6, 8], dtype=tf.int32)\n",
        "sparse_shape2 = tf.constant([5, 3], dtype=tf.int64)\n",
        "\n",
        "sparse_tensor2 = tf.sparse.SparseTensor(\n",
        "    indices=sparse_indices2,\n",
        "    values=sparse_values2,\n",
        "    dense_shape=sparse_shape2\n",
        ")\n",
        "\n",
        "\n",
        "result_sparse_tensor = tf.sparse.concat(axis=0, sp_inputs=[sparse_tensor1, sparse_tensor2])\n",
        "\n",
        "print(\"Sparse Tensor 1:\")\n",
        "print(sparse_tensor1)\n",
        "\n",
        "print(\"\\nSparse Tensor 2:\")\n",
        "print(sparse_tensor2)\n",
        "\n",
        "print(\"\\nResult of Concatenation (Sparse Form):\")\n",
        "print(result_sparse_tensor)\n",
        "\n",
        "\n",
        "print(\"\\nResult of Concatenation (Dense Form):\")\n",
        "print(tf.sparse.to_dense(result_sparse_tensor))\n"
      ],
      "metadata": {
        "colab": {
          "base_uri": "https://localhost:8080/"
        },
        "id": "gTUhDe83BPc8",
        "outputId": "eacbc9b4-c094-46f5-8776-f35adf447a50"
      },
      "execution_count": 12,
      "outputs": [
        {
          "output_type": "stream",
          "name": "stdout",
          "text": [
            "Sparse Tensor 1:\n",
            "SparseTensor(indices=tf.Tensor(\n",
            "[[0 1]\n",
            " [1 0]\n",
            " [2 2]], shape=(3, 2), dtype=int64), values=tf.Tensor([9 2 5], shape=(3,), dtype=int32), dense_shape=tf.Tensor([3 3], shape=(2,), dtype=int64))\n",
            "\n",
            "Sparse Tensor 2:\n",
            "SparseTensor(indices=tf.Tensor(\n",
            "[[3 1]\n",
            " [4 0]], shape=(2, 2), dtype=int64), values=tf.Tensor([6 8], shape=(2,), dtype=int32), dense_shape=tf.Tensor([5 3], shape=(2,), dtype=int64))\n",
            "\n",
            "Result of Concatenation (Sparse Form):\n",
            "SparseTensor(indices=tf.Tensor(\n",
            "[[0 1]\n",
            " [1 0]\n",
            " [2 2]\n",
            " [6 1]\n",
            " [7 0]], shape=(5, 2), dtype=int64), values=tf.Tensor([9 2 5 6 8], shape=(5,), dtype=int32), dense_shape=tf.Tensor([8 3], shape=(2,), dtype=int64))\n",
            "\n",
            "Result of Concatenation (Dense Form):\n",
            "tf.Tensor(\n",
            "[[0 9 0]\n",
            " [2 0 0]\n",
            " [0 0 5]\n",
            " [0 0 0]\n",
            " [0 0 0]\n",
            " [0 0 0]\n",
            " [0 6 0]\n",
            " [8 0 0]], shape=(8, 3), dtype=int32)\n"
          ]
        }
      ]
    },
    {
      "cell_type": "code",
      "source": [
        "import tensorflow as tf\n",
        "sparse_indices=tf.constant([0,1],[1,0],[2,2],[2,3],dtype=tf.int64)\n",
        "sparse_values=tf.constant([1,2,3,4],dtype=tf.int32)\n",
        "sparse_shape=tf.constant([3,4],dtype=tf.int64)\n",
        "sparse_tensor=tf.sparse.SparseTensor(indices=sparse_indices,values=sparse_values,dense_shape=sparse_shape)\n"
      ],
      "metadata": {
        "id": "-CcpWQdOB__8"
      },
      "execution_count": null,
      "outputs": []
    }
  ]
}