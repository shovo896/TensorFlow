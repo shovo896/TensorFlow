{
  "nbformat": 4,
  "nbformat_minor": 0,
  "metadata": {
    "colab": {
      "provenance": [],
      "authorship_tag": "ABX9TyPYnccs+2PNakmT+qh7Y4C/",
      "include_colab_link": true
    },
    "kernelspec": {
      "name": "python3",
      "display_name": "Python 3"
    },
    "language_info": {
      "name": "python"
    }
  },
  "cells": [
    {
      "cell_type": "markdown",
      "metadata": {
        "id": "view-in-github",
        "colab_type": "text"
      },
      "source": [
        "<a href=\"https://colab.research.google.com/github/shovo896/TensorFlow/blob/main/Indexing.ipynb\" target=\"_parent\"><img src=\"https://colab.research.google.com/assets/colab-badge.svg\" alt=\"Open In Colab\"/></a>"
      ]
    },
    {
      "cell_type": "markdown",
      "source": [
        "Slicing in TensorFlow lets you grab specific sections of your data, just like picking out a slice of cake! It's useful for extracting smaller vectors, matrices, or even higher-dimensional chunks from your tensors."
      ],
      "metadata": {
        "id": "iDoOkLzHeGhT"
      }
    },
    {
      "cell_type": "code",
      "execution_count": 1,
      "metadata": {
        "colab": {
          "base_uri": "https://localhost:8080/"
        },
        "id": "xyzXZlN_dzHQ",
        "outputId": "760491d3-5290-481b-9dfa-153ab67d52b3"
      },
      "outputs": [
        {
          "output_type": "execute_result",
          "data": {
            "text/plain": [
              "<tf.Tensor: shape=(10,), dtype=int32, numpy=array([ 1,  2,  3,  4,  5,  6,  7,  8,  9, 10], dtype=int32)>"
            ]
          },
          "metadata": {},
          "execution_count": 1
        }
      ],
      "source": [
        "import tensorflow as tf\n",
        "t1=tf.constant([1,2,3,4,5,6,7,8,9,10])\n",
        "t1"
      ]
    },
    {
      "cell_type": "code",
      "source": [
        "s1=tf.slice(t1,begin=[1],size=[3])\n",
        "print(s1)"
      ],
      "metadata": {
        "colab": {
          "base_uri": "https://localhost:8080/"
        },
        "id": "_K0ir9i_elfo",
        "outputId": "413aaca6-06eb-4e92-d9bc-67a3b090e96d"
      },
      "execution_count": 2,
      "outputs": [
        {
          "output_type": "stream",
          "name": "stdout",
          "text": [
            "tf.Tensor([2 3 4], shape=(3,), dtype=int32)\n"
          ]
        }
      ]
    },
    {
      "cell_type": "code",
      "source": [
        "s1 = t1[1:4]"
      ],
      "metadata": {
        "id": "DiclzHIVe5g0"
      },
      "execution_count": 8,
      "outputs": []
    },
    {
      "cell_type": "markdown",
      "source": [],
      "metadata": {
        "id": "Lb8-uAOHfRhw"
      }
    },
    {
      "cell_type": "markdown",
      "source": [
        "Beyond single dimension"
      ],
      "metadata": {
        "id": "HGiGFxUdfJbg"
      }
    },
    {
      "cell_type": "code",
      "source": [
        "t2=tf.constant([[1,2,3],[4,5,6],[7,8,9]])\n",
        "t2"
      ],
      "metadata": {
        "colab": {
          "base_uri": "https://localhost:8080/"
        },
        "id": "6hDi57VHfTom",
        "outputId": "e0938202-1647-4d13-fe07-b03d375f5436"
      },
      "execution_count": 9,
      "outputs": [
        {
          "output_type": "execute_result",
          "data": {
            "text/plain": [
              "<tf.Tensor: shape=(3, 3), dtype=int32, numpy=\n",
              "array([[1, 2, 3],\n",
              "       [4, 5, 6],\n",
              "       [7, 8, 9]], dtype=int32)>"
            ]
          },
          "metadata": {},
          "execution_count": 9
        }
      ]
    },
    {
      "cell_type": "markdown",
      "source": [
        "Slice using tf slice"
      ],
      "metadata": {
        "id": "4-euFyQ1ff2o"
      }
    },
    {
      "cell_type": "code",
      "source": [
        "first_row=tf.slice(t2,[0,0],[1,tf.shape(t2)[1]])\n",
        "print('First Row:\\n,first_row')\n",
        "second_column=tf.slice(t2,[0,1],[tf.shape(t2)[0],1])\n",
        "print('\\n second column :\\n',second_column)\n"
      ],
      "metadata": {
        "colab": {
          "base_uri": "https://localhost:8080/"
        },
        "id": "ei2l2xzTfjOr",
        "outputId": "729d8943-224d-4d98-f722-357bd364ad21"
      },
      "execution_count": 11,
      "outputs": [
        {
          "output_type": "stream",
          "name": "stdout",
          "text": [
            "First Row:\n",
            ",first_row\n",
            "\n",
            " second column :\n",
            " tf.Tensor(\n",
            "[[2]\n",
            " [5]\n",
            " [8]], shape=(3, 1), dtype=int32)\n"
          ]
        }
      ]
    },
    {
      "cell_type": "code",
      "source": [
        "# Get the first row\n",
        "print('First Row:\\n', t2[0])\n",
        "\n",
        "# Get the second column\n",
        "print('\\nSecond columns:\\n', t2[:, 1])\n",
        "\n",
        "# Get the second and third columns\n",
        "print('\\nSecond & Third columns:\\n', t2[:, 1:3])"
      ],
      "metadata": {
        "colab": {
          "base_uri": "https://localhost:8080/"
        },
        "id": "qDTHiNuBgp7j",
        "outputId": "35839d98-af3c-4799-d853-f0e15e0e6211"
      },
      "execution_count": 12,
      "outputs": [
        {
          "output_type": "stream",
          "name": "stdout",
          "text": [
            "First Row:\n",
            " tf.Tensor([1 2 3], shape=(3,), dtype=int32)\n",
            "\n",
            "Second columns:\n",
            " tf.Tensor([2 5 8], shape=(3,), dtype=int32)\n",
            "\n",
            "Second & Third columns:\n",
            " tf.Tensor(\n",
            "[[2 3]\n",
            " [5 6]\n",
            " [8 9]], shape=(3, 2), dtype=int32)\n"
          ]
        }
      ]
    },
    {
      "cell_type": "markdown",
      "source": [
        "Extracting tensors"
      ],
      "metadata": {
        "id": "4Qv9enjrhDI2"
      }
    },
    {
      "cell_type": "code",
      "source": [
        "import tensorflow as tf\n",
        "t1=tf.constant([1,2,3,4,5,6,7,8,9,10])\n",
        "t1\n"
      ],
      "metadata": {
        "colab": {
          "base_uri": "https://localhost:8080/"
        },
        "id": "If6sOlFzhGBq",
        "outputId": "e5630692-b429-4538-84bb-1a9c86c734e9"
      },
      "execution_count": 14,
      "outputs": [
        {
          "output_type": "execute_result",
          "data": {
            "text/plain": [
              "<tf.Tensor: shape=(10,), dtype=int32, numpy=array([ 1,  2,  3,  4,  5,  6,  7,  8,  9, 10], dtype=int32)>"
            ]
          },
          "metadata": {},
          "execution_count": 14
        }
      ]
    },
    {
      "cell_type": "code",
      "source": [
        "favorites = tf.gather(t1, indices=[0, 3, 6])\n",
        "print(favorites)  # Output: [0 3 6]"
      ],
      "metadata": {
        "colab": {
          "base_uri": "https://localhost:8080/"
        },
        "id": "-Y-cZfCnxDLw",
        "outputId": "14429ff7-5e13-4918-bebd-f11b86e7461d"
      },
      "execution_count": 17,
      "outputs": [
        {
          "output_type": "stream",
          "name": "stdout",
          "text": [
            "tf.Tensor([1 4 7], shape=(3,), dtype=int32)\n"
          ]
        }
      ]
    },
    {
      "cell_type": "markdown",
      "source": [
        "Beyond flat lands"
      ],
      "metadata": {
        "id": "0lnR47XbxIiS"
      }
    },
    {
      "cell_type": "code",
      "source": [
        "Indices=tf.constant([1,0])\n",
        "r=tf.gather(t2,indices=Indices)\n",
        "print('Along row\\n',r)\n",
        "\n",
        "c=tf.gather(t2,indices=Indices,axis=1)\n",
        "print('\\nAlong column\\n',c)"
      ],
      "metadata": {
        "colab": {
          "base_uri": "https://localhost:8080/"
        },
        "id": "anf9vO50xL2M",
        "outputId": "70d157d3-e7e1-4680-cb84-2e12cd356e1d"
      },
      "execution_count": 18,
      "outputs": [
        {
          "output_type": "stream",
          "name": "stdout",
          "text": [
            "Along row\n",
            " tf.Tensor(\n",
            "[[4 5 6]\n",
            " [1 2 3]], shape=(2, 3), dtype=int32)\n",
            "\n",
            "Along column\n",
            " tf.Tensor(\n",
            "[[2 1]\n",
            " [5 4]\n",
            " [8 7]], shape=(3, 2), dtype=int32)\n"
          ]
        }
      ]
    },
    {
      "cell_type": "code",
      "source": [
        "t3 = tf.constant([[[1, 3, 5, 7],\n",
        "                   [9, 11, 13, 15]],\n",
        "                  [[17, 19, 21, 23],\n",
        "                   [25, 27, 29, 31]]])\n",
        "t3"
      ],
      "metadata": {
        "colab": {
          "base_uri": "https://localhost:8080/"
        },
        "id": "TakCpGffyWVq",
        "outputId": "e015725a-1246-4866-c8c7-678b4418eed7"
      },
      "execution_count": 19,
      "outputs": [
        {
          "output_type": "execute_result",
          "data": {
            "text/plain": [
              "<tf.Tensor: shape=(2, 2, 4), dtype=int32, numpy=\n",
              "array([[[ 1,  3,  5,  7],\n",
              "        [ 9, 11, 13, 15]],\n",
              "\n",
              "       [[17, 19, 21, 23],\n",
              "        [25, 27, 29, 31]]], dtype=int32)>"
            ]
          },
          "metadata": {},
          "execution_count": 19
        }
      ]
    },
    {
      "cell_type": "code",
      "source": [
        "import tensorflow as tf\n",
        "t4=tf.zeros_like(tf.constant([0,0,0,0,0,0,0,0,0]))\n",
        "t4"
      ],
      "metadata": {
        "colab": {
          "base_uri": "https://localhost:8080/"
        },
        "id": "GDkhzecFygab",
        "outputId": "506ab543-b94c-43d9-815b-c699a36ed616"
      },
      "execution_count": 20,
      "outputs": [
        {
          "output_type": "execute_result",
          "data": {
            "text/plain": [
              "<tf.Tensor: shape=(9,), dtype=int32, numpy=array([0, 0, 0, 0, 0, 0, 0, 0, 0], dtype=int32)>"
            ]
          },
          "metadata": {},
          "execution_count": 20
        }
      ]
    },
    {
      "cell_type": "code",
      "source": [
        "Index=[[1],[3],[6]]\n",
        "Values=[10,20,30]\n",
        "t4=tf.scatter_nd(\n",
        "    indices=Index,\n",
        "    updates=Values,\n",
        "    shape=[8]\n",
        ")\n",
        "print(t4)"
      ],
      "metadata": {
        "colab": {
          "base_uri": "https://localhost:8080/"
        },
        "id": "gDCi8f9hz6cY",
        "outputId": "56fc13f8-4269-42f9-87bb-a9eacd2e57ea"
      },
      "execution_count": 21,
      "outputs": [
        {
          "output_type": "stream",
          "name": "stdout",
          "text": [
            "tf.Tensor([ 0 10  0 20  0  0 30  0], shape=(8,), dtype=int32)\n"
          ]
        }
      ]
    },
    {
      "cell_type": "markdown",
      "source": [
        "Beyond Flat Land"
      ],
      "metadata": {
        "id": "8EamKeNV0jtY"
      }
    },
    {
      "cell_type": "code",
      "source": [
        "t5=tf.zeros(shape=(4,5))\n",
        "t5"
      ],
      "metadata": {
        "colab": {
          "base_uri": "https://localhost:8080/"
        },
        "id": "SlvBSlEQ0m6C",
        "outputId": "28356329-bb58-4a8a-90a1-d03e4c50b855"
      },
      "execution_count": 22,
      "outputs": [
        {
          "output_type": "execute_result",
          "data": {
            "text/plain": [
              "<tf.Tensor: shape=(4, 5), dtype=float32, numpy=\n",
              "array([[0., 0., 0., 0., 0.],\n",
              "       [0., 0., 0., 0., 0.],\n",
              "       [0., 0., 0., 0., 0.],\n",
              "       [0., 0., 0., 0., 0.]], dtype=float32)>"
            ]
          },
          "metadata": {},
          "execution_count": 22
        }
      ]
    },
    {
      "cell_type": "markdown",
      "source": [
        "plant seeds"
      ],
      "metadata": {
        "id": "KQ0NIA9s033M"
      }
    },
    {
      "cell_type": "code",
      "source": [
        "Index = [[0, 0],\n",
        "         [1, 1],\n",
        "         [2, 2]]\n",
        "values = [100, 200, 300]\n",
        "t5 = tf.scatter_nd(indices=Index,\n",
        "                   updates=values,\n",
        "                   shape=t5.shape)\n",
        "print(t5)  # Output: [[100 0 0 0 0], [0 200 0 0 0], [0 0 300 0 0], [0 0 0 0 0]]"
      ],
      "metadata": {
        "colab": {
          "base_uri": "https://localhost:8080/"
        },
        "id": "SmSYUKdT1diF",
        "outputId": "5ef740a1-61ce-4c1e-f015-1b8c8cf1c107"
      },
      "execution_count": 23,
      "outputs": [
        {
          "output_type": "stream",
          "name": "stdout",
          "text": [
            "tf.Tensor(\n",
            "[[100   0   0   0   0]\n",
            " [  0 200   0   0   0]\n",
            " [  0   0 300   0   0]\n",
            " [  0   0   0   0   0]], shape=(4, 5), dtype=int32)\n"
          ]
        }
      ]
    }
  ]
}