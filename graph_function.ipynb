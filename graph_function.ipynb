{
  "nbformat": 4,
  "nbformat_minor": 0,
  "metadata": {
    "colab": {
      "provenance": [],
      "authorship_tag": "ABX9TyOs310tU3uKq+QR//mDkmQ0",
      "include_colab_link": true
    },
    "kernelspec": {
      "name": "python3",
      "display_name": "Python 3"
    },
    "language_info": {
      "name": "python"
    }
  },
  "cells": [
    {
      "cell_type": "markdown",
      "metadata": {
        "id": "view-in-github",
        "colab_type": "text"
      },
      "source": [
        "<a href=\"https://colab.research.google.com/github/shovo896/TensorFlow/blob/main/graph_function.ipynb\" target=\"_parent\"><img src=\"https://colab.research.google.com/assets/colab-badge.svg\" alt=\"Open In Colab\"/></a>"
      ]
    },
    {
      "cell_type": "code",
      "execution_count": 1,
      "metadata": {
        "colab": {
          "base_uri": "https://localhost:8080/"
        },
        "id": "sJTst0nLRIqX",
        "outputId": "01363d36-7174-4987-9012-eaa37998c908"
      },
      "outputs": [
        {
          "output_type": "stream",
          "name": "stdout",
          "text": [
            "30\n"
          ]
        }
      ],
      "source": [
        "import tensorflow as tf\n",
        "\n",
        "# Define a graph\n",
        "graph = tf.Graph()\n",
        "\n",
        "with graph.as_default():\n",
        "    a = tf.constant(5)\n",
        "    b = tf.constant(6)\n",
        "    c = a * b\n",
        "\n",
        "# Create a session to run the graph\n",
        "with tf.compat.v1.Session(graph=graph) as sess:\n",
        "    result = sess.run(c)\n",
        "    print(result)"
      ]
    },
    {
      "cell_type": "code",
      "source": [
        "import tensorflow as tf\n",
        "a=tf.constant(4)\n",
        "b=tf.constant(5)\n",
        "c=a*b\n",
        "print(c)"
      ],
      "metadata": {
        "colab": {
          "base_uri": "https://localhost:8080/"
        },
        "id": "EhlvG_H7RhK6",
        "outputId": "d77e86f4-fc02-443d-fad8-0a9de96775e5"
      },
      "execution_count": 2,
      "outputs": [
        {
          "output_type": "stream",
          "name": "stdout",
          "text": [
            "tf.Tensor(20, shape=(), dtype=int32)\n"
          ]
        }
      ]
    },
    {
      "cell_type": "markdown",
      "source": [
        "tff.function  convert function to tensorflow graph"
      ],
      "metadata": {
        "id": "6ggyXKHBRxjE"
      }
    },
    {
      "cell_type": "code",
      "source": [
        "import tensorflow as tf\n",
        "@tf.function\n",
        "def my_function(x,y):\n",
        "  return x*y\n",
        "a=tf.constant(5)\n",
        "b=tf.constant(6)\n",
        "c=my_function(a,b)\n",
        "print(c)"
      ],
      "metadata": {
        "colab": {
          "base_uri": "https://localhost:8080/"
        },
        "id": "kboqa2YqR7uG",
        "outputId": "01066316-56e6-4ec7-bfe5-a9e5963cef84"
      },
      "execution_count": 3,
      "outputs": [
        {
          "output_type": "stream",
          "name": "stdout",
          "text": [
            "tf.Tensor(30, shape=(), dtype=int32)\n"
          ]
        }
      ]
    },
    {
      "cell_type": "markdown",
      "source": [
        "TensorFlow allows for control flow operations like loops and conditionals within a graph. However, Python’s control flow structures (like if, for, and while) don’t work directly in TensorFlow graphs. Instead, TensorFlow provides its own control flow mechanisms using tf.cond and tf.while_loop."
      ],
      "metadata": {
        "id": "MGLfYru3SX4X"
      }
    },
    {
      "cell_type": "code",
      "source": [
        "import tensorflow as tf\n",
        "@tf.function\n",
        "def conditional_functional(x):\n",
        "  if x > 0 :\n",
        "    return x\n",
        "  else:\n",
        "    return -x\n",
        "\n",
        "result=conditional_functional(tf.constant(-5))\n",
        "print(result)"
      ],
      "metadata": {
        "colab": {
          "base_uri": "https://localhost:8080/"
        },
        "id": "GJdMUiImTK-2",
        "outputId": "bfc3ae63-5dbb-40d6-d7ee-4dbeb2791c2a"
      },
      "execution_count": 6,
      "outputs": [
        {
          "output_type": "stream",
          "name": "stdout",
          "text": [
            "tf.Tensor(5, shape=(), dtype=int32)\n"
          ]
        }
      ]
    },
    {
      "cell_type": "markdown",
      "source": [
        "You can use TensorFlow's tf.debugging.assert_* utilities to catch potential errors like invalid tensor shapes, values, or types. Here’s a simple example where we validate that the denominator is non-negative before performing division."
      ],
      "metadata": {
        "id": "TqWgcvduTw61"
      }
    },
    {
      "cell_type": "code",
      "source": [
        "import tensorflow as tf\n",
        "\n",
        "# A function that performs division and checks for non-negative denominators\n",
        "@tf.function\n",
        "def divide(a, b):\n",
        "    # Ensure denominator is not negative\n",
        "    tf.debugging.assert_non_negative(b, message=\"Denominator should not be negative\")\n",
        "    return a / b\n",
        "\n",
        "# Testing the function with valid input\n",
        "result = divide(tf.constant(10.0), tf.constant(2.0))\n",
        "print(\"Valid Division Result: \", result)\n",
        "\n",
        "# Testing the function with an invalid input (negative denominator)\n",
        "try:\n",
        "    result = divide(tf.constant(10.0), tf.constant(-1.0))\n",
        "except tf.errors.InvalidArgumentError as e:\n",
        "    print(\"Caught error:\", e)"
      ],
      "metadata": {
        "colab": {
          "base_uri": "https://localhost:8080/"
        },
        "id": "1Jffua_5Tywg",
        "outputId": "a9a91c7a-8bf5-44ee-ee44-098ea4667b6e"
      },
      "execution_count": 7,
      "outputs": [
        {
          "output_type": "stream",
          "name": "stdout",
          "text": [
            "Valid Division Result:  tf.Tensor(5.0, shape=(), dtype=float32)\n",
            "Caught error: Graph execution error:\n",
            "\n",
            "Detected at node assert_non_negative/assert_less_equal/Assert/AssertGuard/Assert defined at (most recent call last):\n",
            "  File \"<frozen runpy>\", line 198, in _run_module_as_main\n",
            "\n",
            "  File \"<frozen runpy>\", line 88, in _run_code\n",
            "\n",
            "  File \"/usr/local/lib/python3.12/dist-packages/colab_kernel_launcher.py\", line 37, in <module>\n",
            "\n",
            "  File \"/usr/local/lib/python3.12/dist-packages/traitlets/config/application.py\", line 992, in launch_instance\n",
            "\n",
            "  File \"/usr/local/lib/python3.12/dist-packages/ipykernel/kernelapp.py\", line 712, in start\n",
            "\n",
            "  File \"/usr/local/lib/python3.12/dist-packages/tornado/platform/asyncio.py\", line 205, in start\n",
            "\n",
            "  File \"/usr/lib/python3.12/asyncio/base_events.py\", line 645, in run_forever\n",
            "\n",
            "  File \"/usr/lib/python3.12/asyncio/base_events.py\", line 1999, in _run_once\n",
            "\n",
            "  File \"/usr/lib/python3.12/asyncio/events.py\", line 88, in _run\n",
            "\n",
            "  File \"/usr/local/lib/python3.12/dist-packages/ipykernel/kernelbase.py\", line 510, in dispatch_queue\n",
            "\n",
            "  File \"/usr/local/lib/python3.12/dist-packages/ipykernel/kernelbase.py\", line 499, in process_one\n",
            "\n",
            "  File \"/usr/local/lib/python3.12/dist-packages/ipykernel/kernelbase.py\", line 406, in dispatch_shell\n",
            "\n",
            "  File \"/usr/local/lib/python3.12/dist-packages/ipykernel/kernelbase.py\", line 730, in execute_request\n",
            "\n",
            "  File \"/usr/local/lib/python3.12/dist-packages/ipykernel/ipkernel.py\", line 383, in do_execute\n",
            "\n",
            "  File \"/usr/local/lib/python3.12/dist-packages/ipykernel/zmqshell.py\", line 528, in run_cell\n",
            "\n",
            "  File \"/usr/local/lib/python3.12/dist-packages/IPython/core/interactiveshell.py\", line 2975, in run_cell\n",
            "\n",
            "  File \"/usr/local/lib/python3.12/dist-packages/IPython/core/interactiveshell.py\", line 3030, in _run_cell\n",
            "\n",
            "  File \"/usr/local/lib/python3.12/dist-packages/IPython/core/async_helpers.py\", line 78, in _pseudo_sync_runner\n",
            "\n",
            "  File \"/usr/local/lib/python3.12/dist-packages/IPython/core/interactiveshell.py\", line 3257, in run_cell_async\n",
            "\n",
            "  File \"/usr/local/lib/python3.12/dist-packages/IPython/core/interactiveshell.py\", line 3473, in run_ast_nodes\n",
            "\n",
            "  File \"/usr/local/lib/python3.12/dist-packages/IPython/core/interactiveshell.py\", line 3553, in run_code\n",
            "\n",
            "  File \"/tmp/ipython-input-4249070245.py\", line 11, in <cell line: 0>\n",
            "\n",
            "  File \"/tmp/ipython-input-4249070245.py\", line 7, in divide\n",
            "\n",
            "assertion failed: [Denominator should not be negative.  ] [Condition x >= 0 did not hold element-wise:] [x (b:0) = ] [-1]\n",
            "\t [[{{node assert_non_negative/assert_less_equal/Assert/AssertGuard/Assert}}]] [Op:__inference_divide_78]\n"
          ]
        }
      ]
    },
    {
      "cell_type": "code",
      "source": [
        "import tensorflow as tf\n",
        "import time\n",
        "\n",
        "# Enable the TensorFlow Profiler\n",
        "tf.profiler.experimental.start('logdir')\n",
        "\n",
        "@tf.function\n",
        "def divide(a, b):\n",
        "    tf.debugging.assert_non_negative(b, message=\"Denominator should not be negative\")\n",
        "    return a / b\n",
        "\n",
        "# Sample function execution\n",
        "a = tf.constant(10.0)\n",
        "b = tf.constant(2.0)\n",
        "\n",
        "# Measure time and performance using TensorFlow Profiler\n",
        "start_time = time.time()\n",
        "\n",
        "for _ in range(1000):  # Simulate heavy computations\n",
        "    result = divide(a, b)\n",
        "\n",
        "end_time = time.time()\n",
        "\n",
        "# Stop the Profiler\n",
        "tf.profiler.experimental.stop()\n",
        "\n",
        "print(f\"Computation completed in: {end_time - start_time:.4f} seconds\")"
      ],
      "metadata": {
        "colab": {
          "base_uri": "https://localhost:8080/"
        },
        "id": "e3PqODY3UE1A",
        "outputId": "6c4cdf44-4f60-42b5-da87-904475f33b27"
      },
      "execution_count": 8,
      "outputs": [
        {
          "output_type": "stream",
          "name": "stdout",
          "text": [
            "Computation completed in: 0.5937 seconds\n"
          ]
        }
      ]
    }
  ]
}