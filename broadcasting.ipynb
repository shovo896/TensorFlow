{
  "nbformat": 4,
  "nbformat_minor": 0,
  "metadata": {
    "colab": {
      "provenance": [],
      "authorship_tag": "ABX9TyOZzvnUwfswuZxvWYKeKnaZ",
      "include_colab_link": true
    },
    "kernelspec": {
      "name": "python3",
      "display_name": "Python 3"
    },
    "language_info": {
      "name": "python"
    }
  },
  "cells": [
    {
      "cell_type": "markdown",
      "metadata": {
        "id": "view-in-github",
        "colab_type": "text"
      },
      "source": [
        "<a href=\"https://colab.research.google.com/github/shovo896/TensorFlow/blob/main/broadcasting.ipynb\" target=\"_parent\"><img src=\"https://colab.research.google.com/assets/colab-badge.svg\" alt=\"Open In Colab\"/></a>"
      ]
    },
    {
      "cell_type": "code",
      "execution_count": null,
      "metadata": {
        "colab": {
          "base_uri": "https://localhost:8080/",
          "height": 193
        },
        "id": "879hvdHX5Gsf",
        "outputId": "6b5e4bd3-c403-4390-838c-0da12a2f1778"
      },
      "outputs": [
        {
          "output_type": "error",
          "ename": "NameError",
          "evalue": "name 'tf' is not defined",
          "traceback": [
            "\u001b[0;31m---------------------------------------------------------------------------\u001b[0m",
            "\u001b[0;31mNameError\u001b[0m                                 Traceback (most recent call last)",
            "\u001b[0;32m/tmp/ipython-input-4193761753.py\u001b[0m in \u001b[0;36m<cell line: 0>\u001b[0;34m()\u001b[0m\n\u001b[0;32m----> 1\u001b[0;31m tensor_2d=tf.constant([[1,2,3],\n\u001b[0m\u001b[1;32m      2\u001b[0m                        \u001b[0;34m[\u001b[0m\u001b[0;36m4\u001b[0m\u001b[0;34m,\u001b[0m\u001b[0;36m4\u001b[0m\u001b[0;34m,\u001b[0m\u001b[0;36m5\u001b[0m\u001b[0;34m]\u001b[0m\u001b[0;34m,\u001b[0m\u001b[0;34m\u001b[0m\u001b[0;34m\u001b[0m\u001b[0m\n\u001b[1;32m      3\u001b[0m                        [7,8,8]])\n\u001b[1;32m      4\u001b[0m \u001b[0mtensor_2d\u001b[0m\u001b[0;34m\u001b[0m\u001b[0;34m\u001b[0m\u001b[0m\n",
            "\u001b[0;31mNameError\u001b[0m: name 'tf' is not defined"
          ]
        }
      ],
      "source": [
        "tensor_2d=tf.constant([[1,2,3],\n",
        "                       [4,4,5],\n",
        "                       [7,8,8]])\n",
        "tensor_2d"
      ]
    },
    {
      "cell_type": "markdown",
      "source": [
        "Diferent shapes"
      ],
      "metadata": {
        "id": "Pt60U3jk6H-l"
      }
    },
    {
      "cell_type": "code",
      "source": [
        "import tensorflow as tf\n",
        "T1=tf.constant([[1,2,3],\n",
        "                [4,5,6]])\n",
        "T2=tf.constant([[7,8,10]])\n",
        "T1\n",
        "T3=T1+T2\n",
        "print(T3)"
      ],
      "metadata": {
        "colab": {
          "base_uri": "https://localhost:8080/"
        },
        "id": "FcsT6Ms06Lsa",
        "outputId": "fa160d3c-aa82-46b2-b774-e225739cdeba"
      },
      "execution_count": null,
      "outputs": [
        {
          "output_type": "stream",
          "name": "stdout",
          "text": [
            "tf.Tensor(\n",
            "[[ 8 10 13]\n",
            " [11 13 16]], shape=(2, 3), dtype=int32)\n"
          ]
        }
      ]
    },
    {
      "cell_type": "markdown",
      "source": [
        "Different ranks"
      ],
      "metadata": {
        "id": "OoM_tlPB6m3d"
      }
    },
    {
      "cell_type": "code",
      "source": [
        "import tensorflow as tf\n",
        "T1=tf.constant([[1,2,3],\n",
        "                [4,5,6]])\n",
        "T2=tf.constant([[7,8,10],\n",
        "                [11,12,13]])\n",
        "T3=T1+T2\n",
        "print(T3)"
      ],
      "metadata": {
        "colab": {
          "base_uri": "https://localhost:8080/"
        },
        "id": "-PJdWIQ66rWy",
        "outputId": "4ce81118-fa89-4290-b29d-f854c0a95d17"
      },
      "execution_count": null,
      "outputs": [
        {
          "output_type": "stream",
          "name": "stdout",
          "text": [
            "tf.Tensor(\n",
            "[[ 8 10 13]\n",
            " [15 17 19]], shape=(2, 3), dtype=int32)\n"
          ]
        }
      ]
    },
    {
      "cell_type": "markdown",
      "source": [
        "One of the tensor rank"
      ],
      "metadata": {
        "id": "ODFQTXT47HM8"
      }
    },
    {
      "cell_type": "code",
      "source": [
        "import tensorflow as tf\n",
        "T1=tf.constant([[1,2,3],\n",
        "                [4,5,6]])\n",
        "T2=tf.constant([[7,8,10]])\n",
        "T3=T1+T2\n",
        "print(T3)"
      ],
      "metadata": {
        "colab": {
          "base_uri": "https://localhost:8080/"
        },
        "id": "-gpdptku7OQv",
        "outputId": "e297dada-38d2-4bf0-b0ed-c2cc598d29df"
      },
      "execution_count": null,
      "outputs": [
        {
          "output_type": "stream",
          "name": "stdout",
          "text": [
            "tf.Tensor(\n",
            "[[ 8 10 13]\n",
            " [11 13 16]], shape=(2, 3), dtype=int32)\n"
          ]
        }
      ]
    },
    {
      "cell_type": "markdown",
      "source": [
        "resulting rank tensor and elementwise operation"
      ],
      "metadata": {
        "id": "qjifrEAI7U7X"
      }
    },
    {
      "cell_type": "code",
      "source": [],
      "metadata": {
        "colab": {
          "base_uri": "https://localhost:8080/",
          "height": 106
        },
        "id": "lgCd9So57yzc",
        "outputId": "aa2b5c44-744d-4997-e242-665068ac1ee5"
      },
      "execution_count": null,
      "outputs": [
        {
          "output_type": "error",
          "ename": "SyntaxError",
          "evalue": "invalid syntax. Perhaps you forgot a comma? (ipython-input-2844994801.py, line 5)",
          "traceback": [
            "\u001b[0;36m  File \u001b[0;32m\"/tmp/ipython-input-2844994801.py\"\u001b[0;36m, line \u001b[0;32m5\u001b[0m\n\u001b[0;31m    [[40 41],\u001b[0m\n\u001b[0m      ^\u001b[0m\n\u001b[0;31mSyntaxError\u001b[0m\u001b[0;31m:\u001b[0m invalid syntax. Perhaps you forgot a comma?\n"
          ]
        }
      ]
    },
    {
      "cell_type": "code",
      "source": [
        "import tensorflow as tf\n",
        "\n",
        "# tensor T1\n",
        "T1 =tf. constant([[[10, 11],   #Rank 3 and shape(2,3,2)\n",
        "                   [20, 20],\n",
        "                   [30, 30]],\n",
        "\n",
        "                 [ [40, 41],\n",
        "                   [50, 50],\n",
        "                   [60, 60]   ]])\n",
        "\n",
        "# tensor T2\n",
        "T2= tf.constant([[1, 2, 3],    # Rank 2 and shape (2,3)\n",
        "                 [4, 5, 6]])\n",
        "\n",
        "#Adding new axis to T2 by .expand_dims() at its trailing end\n",
        "broadcasted_T2 = tf.expand_dims(T2, axis=-1)\n",
        "\n",
        "# arithmetic operation\n",
        "T3=broadcasted_T2+ T1\n",
        "print(T3)"
      ],
      "metadata": {
        "colab": {
          "base_uri": "https://localhost:8080/"
        },
        "id": "lmKyAb7j8L5M",
        "outputId": "8b54f941-f44f-415d-a23e-42e46fc34246"
      },
      "execution_count": null,
      "outputs": [
        {
          "output_type": "stream",
          "name": "stdout",
          "text": [
            "tf.Tensor(\n",
            "[[[11 12]\n",
            "  [22 22]\n",
            "  [33 33]]\n",
            "\n",
            " [[44 45]\n",
            "  [55 55]\n",
            "  [66 66]]], shape=(2, 3, 2), dtype=int32)\n"
          ]
        }
      ]
    }
  ]
}