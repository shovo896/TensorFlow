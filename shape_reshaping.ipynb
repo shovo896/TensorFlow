{
  "nbformat": 4,
  "nbformat_minor": 0,
  "metadata": {
    "colab": {
      "provenance": [],
      "authorship_tag": "ABX9TyMjxaaQcE45Q068SM5RJyu7",
      "include_colab_link": true
    },
    "kernelspec": {
      "name": "python3",
      "display_name": "Python 3"
    },
    "language_info": {
      "name": "python"
    }
  },
  "cells": [
    {
      "cell_type": "markdown",
      "metadata": {
        "id": "view-in-github",
        "colab_type": "text"
      },
      "source": [
        "<a href=\"https://colab.research.google.com/github/shovo896/TensorFlow/blob/main/shape_reshaping.ipynb\" target=\"_parent\"><img src=\"https://colab.research.google.com/assets/colab-badge.svg\" alt=\"Open In Colab\"/></a>"
      ]
    },
    {
      "cell_type": "code",
      "execution_count": null,
      "metadata": {
        "id": "bQViVUlIAIhP"
      },
      "outputs": [],
      "source": [
        "import tensorflow as tf"
      ]
    },
    {
      "cell_type": "markdown",
      "source": [
        "tensor shape meauuu"
      ],
      "metadata": {
        "id": "ovBhABp6AZI-"
      }
    },
    {
      "cell_type": "code",
      "source": [
        "t1-tf.constant([[11,7,8],\n",
        "                [11,4,0]])\n",
        "print('Tensor:\\n',t1)\n",
        "print('\\nShape of Tensor:',tf.shape(t1).numpy())"
      ],
      "metadata": {
        "colab": {
          "base_uri": "https://localhost:8080/",
          "height": 193
        },
        "id": "QRe91tarAc6N",
        "outputId": "b2259d36-be6a-4afd-c31b-0d3dfeb23bcb"
      },
      "execution_count": 1,
      "outputs": [
        {
          "output_type": "error",
          "ename": "NameError",
          "evalue": "name 't1' is not defined",
          "traceback": [
            "\u001b[0;31m---------------------------------------------------------------------------\u001b[0m",
            "\u001b[0;31mNameError\u001b[0m                                 Traceback (most recent call last)",
            "\u001b[0;32m/tmp/ipython-input-1689072995.py\u001b[0m in \u001b[0;36m<cell line: 0>\u001b[0;34m()\u001b[0m\n\u001b[0;32m----> 1\u001b[0;31m t1-tf.constant([[11,7,8],\n\u001b[0m\u001b[1;32m      2\u001b[0m                 [11,4,0]])\n\u001b[1;32m      3\u001b[0m \u001b[0mprint\u001b[0m\u001b[0;34m(\u001b[0m\u001b[0;34m'Tensor:\\n'\u001b[0m\u001b[0;34m,\u001b[0m\u001b[0mt1\u001b[0m\u001b[0;34m)\u001b[0m\u001b[0;34m\u001b[0m\u001b[0;34m\u001b[0m\u001b[0m\n\u001b[1;32m      4\u001b[0m \u001b[0mprint\u001b[0m\u001b[0;34m(\u001b[0m\u001b[0;34m'\\nShape of Tensor:'\u001b[0m\u001b[0;34m,\u001b[0m\u001b[0mtf\u001b[0m\u001b[0;34m.\u001b[0m\u001b[0mshape\u001b[0m\u001b[0;34m(\u001b[0m\u001b[0mt1\u001b[0m\u001b[0;34m)\u001b[0m\u001b[0;34m.\u001b[0m\u001b[0mnumpy\u001b[0m\u001b[0;34m(\u001b[0m\u001b[0;34m)\u001b[0m\u001b[0;34m)\u001b[0m\u001b[0;34m\u001b[0m\u001b[0;34m\u001b[0m\u001b[0m\n",
            "\u001b[0;31mNameError\u001b[0m: name 't1' is not defined"
          ]
        }
      ]
    },
    {
      "cell_type": "code",
      "source": [
        "t1 = tf.constant([[9, 7, 8],\n",
        "                  [11, 4, 0]])\n",
        "print('Tensor :\\n', t1)\n",
        "print('\\nShape of Tensor:', tf.shape(t1).numpy())"
      ],
      "metadata": {
        "colab": {
          "base_uri": "https://localhost:8080/",
          "height": 193
        },
        "id": "AHFXvHA6A_Kk",
        "outputId": "749bccf7-4d7a-40bf-8425-cd310ce80333"
      },
      "execution_count": 2,
      "outputs": [
        {
          "output_type": "error",
          "ename": "NameError",
          "evalue": "name 'tf' is not defined",
          "traceback": [
            "\u001b[0;31m---------------------------------------------------------------------------\u001b[0m",
            "\u001b[0;31mNameError\u001b[0m                                 Traceback (most recent call last)",
            "\u001b[0;32m/tmp/ipython-input-308916788.py\u001b[0m in \u001b[0;36m<cell line: 0>\u001b[0;34m()\u001b[0m\n\u001b[0;32m----> 1\u001b[0;31m t1 = tf.constant([[9, 7, 8],\n\u001b[0m\u001b[1;32m      2\u001b[0m                   [11, 4, 0]])\n\u001b[1;32m      3\u001b[0m \u001b[0mprint\u001b[0m\u001b[0;34m(\u001b[0m\u001b[0;34m'Tensor :\\n'\u001b[0m\u001b[0;34m,\u001b[0m \u001b[0mt1\u001b[0m\u001b[0;34m)\u001b[0m\u001b[0;34m\u001b[0m\u001b[0;34m\u001b[0m\u001b[0m\n\u001b[1;32m      4\u001b[0m \u001b[0mprint\u001b[0m\u001b[0;34m(\u001b[0m\u001b[0;34m'\\nShape of Tensor:'\u001b[0m\u001b[0;34m,\u001b[0m \u001b[0mtf\u001b[0m\u001b[0;34m.\u001b[0m\u001b[0mshape\u001b[0m\u001b[0;34m(\u001b[0m\u001b[0mt1\u001b[0m\u001b[0;34m)\u001b[0m\u001b[0;34m.\u001b[0m\u001b[0mnumpy\u001b[0m\u001b[0;34m(\u001b[0m\u001b[0;34m)\u001b[0m\u001b[0;34m)\u001b[0m\u001b[0;34m\u001b[0m\u001b[0;34m\u001b[0m\u001b[0m\n",
            "\u001b[0;31mNameError\u001b[0m: name 'tf' is not defined"
          ]
        }
      ]
    },
    {
      "cell_type": "code",
      "source": [
        "import tensorflow as tf\n",
        "\n",
        "t1 = tf.constant([[9, 7, 8],\n",
        "                  [11, 4, 0]])\n",
        "\n",
        "print('Tensor:\\n', t1.numpy())\n",
        "print('\\nShape of Tensor:', t1.shape)\n"
      ],
      "metadata": {
        "colab": {
          "base_uri": "https://localhost:8080/"
        },
        "id": "T3CAX7jWBUfM",
        "outputId": "53910e2c-a26b-4106-c612-cee0db5548c7"
      },
      "execution_count": 3,
      "outputs": [
        {
          "output_type": "stream",
          "name": "stdout",
          "text": [
            "Tensor:\n",
            " [[ 9  7  8]\n",
            " [11  4  0]]\n",
            "\n",
            "Shape of Tensor: (2, 3)\n"
          ]
        }
      ]
    },
    {
      "cell_type": "markdown",
      "source": [
        "reshapin"
      ],
      "metadata": {
        "id": "HgdTOB6wBeK6"
      }
    },
    {
      "cell_type": "code",
      "source": [
        "t2=tf.reshape(t1,[6])\n",
        "print('Tensor:\\n',t2)\n",
        "print('\\nShape of tensor:',tf.shape(t2).numpy())"
      ],
      "metadata": {
        "colab": {
          "base_uri": "https://localhost:8080/"
        },
        "id": "3iXTArEIBhFZ",
        "outputId": "8e400caa-a8c9-4299-f594-a6ca1534eda7"
      },
      "execution_count": 4,
      "outputs": [
        {
          "output_type": "stream",
          "name": "stdout",
          "text": [
            "Tensor:\n",
            " tf.Tensor([ 9  7  8 11  4  0], shape=(6,), dtype=int32)\n",
            "\n",
            "Shape of tensor: [6]\n"
          ]
        }
      ]
    },
    {
      "cell_type": "markdown",
      "source": [
        "Reshaping 2d vector"
      ],
      "metadata": {
        "id": "hKVjhZ76B6v-"
      }
    },
    {
      "cell_type": "code",
      "source": [
        "t3=tf.reshape(t2,[1,6])\n",
        "print('Tensor\\n',t3)\n",
        "print('\\nShape of Tensor:',tf.shape(t3).numpy())"
      ],
      "metadata": {
        "colab": {
          "base_uri": "https://localhost:8080/"
        },
        "id": "kkiyubwJB9ps",
        "outputId": "39507c5c-706d-4cd8-d02b-58f51a926d73"
      },
      "execution_count": 5,
      "outputs": [
        {
          "output_type": "stream",
          "name": "stdout",
          "text": [
            "Tensor\n",
            " tf.Tensor([[ 9  7  8 11  4  0]], shape=(1, 6), dtype=int32)\n",
            "\n",
            "Shape of Tensor: [1 6]\n"
          ]
        }
      ]
    },
    {
      "cell_type": "markdown",
      "source": [
        "We use permuted dimensions to control the arrangement of dimensions in the output tensor, allowing for flexibility in tensor transformations such as transposition.\n",
        "\n",
        "The original tensor t is defined as a 2D tensor with two rows and three columns, represented as a Python list of lists.\n",
        "Reshaping the tensor using tf.reshape() rearranges its elements to match a specified shape, resulting in a 3x2 tensor.\n",
        "Transposing the tensor with tf.transpose() changes the arrangement of dimensions. Here, the perm argument [1, 0] indicates that the rows and columns should be swapped, resulting in a transposed tensor.\n",
        "The reshaped and transposed tensors are converted to NumPy arrays using .numpy() for ease of printing and handling."
      ],
      "metadata": {
        "id": "zCHno-d_Cmlq"
      }
    },
    {
      "cell_type": "code",
      "source": [],
      "metadata": {
        "id": "xcVGTAj7CoGA"
      },
      "execution_count": null,
      "outputs": []
    }
  ]
}